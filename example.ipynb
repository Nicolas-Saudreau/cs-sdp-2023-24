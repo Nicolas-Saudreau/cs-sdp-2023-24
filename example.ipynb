{
 "cells": [
  {
   "cell_type": "code",
   "execution_count": 1,
   "metadata": {},
   "outputs": [],
   "source": [
    "import os\n",
    "import sys\n",
    "\n",
    "sys.path.append(\"../python\")\n",
    "\n",
    "import matplotlib.pyplot as plt\n",
    "import numpy as np"
   ]
  },
  {
   "cell_type": "code",
   "execution_count": 2,
   "metadata": {},
   "outputs": [],
   "source": [
    "from python.data import Dataloader\n",
    "from python.models import RandomExampleModel\n",
    "import python.metrics"
   ]
  },
  {
   "cell_type": "code",
   "execution_count": 3,
   "metadata": {},
   "outputs": [],
   "source": [
    "# Loading the data\n",
    "data_loader = Dataloader(\"./data/dataset_4/\") # Specify path to the dataset you want to load\n",
    "X, Y = data_loader.load()\n"
   ]
  },
  {
   "cell_type": "code",
   "execution_count": 4,
   "metadata": {},
   "outputs": [],
   "source": [
    "X_re = X\n",
    "Y_re = Y"
   ]
  },
  {
   "cell_type": "code",
   "execution_count": 85,
   "metadata": {},
   "outputs": [
    {
     "data": {
      "text/plain": [
       "array([[0.45360563, 0.25691407, 0.71509031, 0.90380217],\n",
       "       [0.83007226, 0.03330589, 0.51154491, 0.33237916],\n",
       "       [0.89127263, 0.22972051, 0.20723437, 0.38867979]])"
      ]
     },
     "execution_count": 85,
     "metadata": {},
     "output_type": "execute_result"
    }
   ],
   "source": [
    "X_re[:3]"
   ]
  },
  {
   "cell_type": "code",
   "execution_count": 28,
   "metadata": {},
   "outputs": [
    {
     "data": {
      "text/plain": [
       "(array([0.34810015, 0.03330589, 0.06496445, 0.15995849]),\n",
       " <function ndarray.all>)"
      ]
     },
     "execution_count": 28,
     "metadata": {},
     "output_type": "execute_result"
    }
   ],
   "source": [
    "X_re.min(axis=0), Y_re.min(axis=0).all()\n",
    "mins = min(min_int_X, min_int_Y).all()\n",
    "min_int_Y = Y_re.min(axis=0)"
   ]
  },
  {
   "cell_type": "code",
   "execution_count": 37,
   "metadata": {},
   "outputs": [
    {
     "ename": "AttributeError",
     "evalue": "'numpy.ndarray' object has no attribute 'list'",
     "output_type": "error",
     "traceback": [
      "\u001b[1;31m---------------------------------------------------------------------------\u001b[0m",
      "\u001b[1;31mAttributeError\u001b[0m                            Traceback (most recent call last)",
      "Cell \u001b[1;32mIn[37], line 1\u001b[0m\n\u001b[1;32m----> 1\u001b[0m min_int_X \u001b[38;5;241m=\u001b[39m \u001b[43mX_re\u001b[49m\u001b[38;5;241;43m.\u001b[39;49m\u001b[43mmin\u001b[49m\u001b[43m(\u001b[49m\u001b[43maxis\u001b[49m\u001b[38;5;241;43m=\u001b[39;49m\u001b[38;5;241;43m0\u001b[39;49m\u001b[43m)\u001b[49m\u001b[38;5;241;43m.\u001b[39;49m\u001b[43mlist\u001b[49m\n",
      "\u001b[1;31mAttributeError\u001b[0m: 'numpy.ndarray' object has no attribute 'list'"
     ]
    }
   ],
   "source": [
    "min_int_X = X_re.min(axis=0)\n"
   ]
  },
  {
   "cell_type": "code",
   "execution_count": 3,
   "metadata": {},
   "outputs": [
    {
     "name": "stdout",
     "output_type": "stream",
     "text": [
      "Set parameter Username\n",
      "Academic license - for non-commercial use only - expires 2024-12-18\n",
      "[[<gurobi.Var *Awaiting Model Update*>, <gurobi.Var *Awaiting Model Update*>, <gurobi.Var *Awaiting Model Update*>, <gurobi.Var *Awaiting Model Update*>, <gurobi.Var *Awaiting Model Update*>, <gurobi.Var *Awaiting Model Update*>], [<gurobi.Var *Awaiting Model Update*>, <gurobi.Var *Awaiting Model Update*>, <gurobi.Var *Awaiting Model Update*>, <gurobi.Var *Awaiting Model Update*>, <gurobi.Var *Awaiting Model Update*>, <gurobi.Var *Awaiting Model Update*>], [<gurobi.Var *Awaiting Model Update*>, <gurobi.Var *Awaiting Model Update*>, <gurobi.Var *Awaiting Model Update*>, <gurobi.Var *Awaiting Model Update*>, <gurobi.Var *Awaiting Model Update*>, <gurobi.Var *Awaiting Model Update*>], [<gurobi.Var *Awaiting Model Update*>, <gurobi.Var *Awaiting Model Update*>, <gurobi.Var *Awaiting Model Update*>, <gurobi.Var *Awaiting Model Update*>, <gurobi.Var *Awaiting Model Update*>, <gurobi.Var *Awaiting Model Update*>], [<gurobi.Var *Awaiting Model Update*>, <gurobi.Var *Awaiting Model Update*>, <gurobi.Var *Awaiting Model Update*>, <gurobi.Var *Awaiting Model Update*>, <gurobi.Var *Awaiting Model Update*>, <gurobi.Var *Awaiting Model Update*>], [<gurobi.Var *Awaiting Model Update*>, <gurobi.Var *Awaiting Model Update*>, <gurobi.Var *Awaiting Model Update*>, <gurobi.Var *Awaiting Model Update*>, <gurobi.Var *Awaiting Model Update*>, <gurobi.Var *Awaiting Model Update*>], [<gurobi.Var *Awaiting Model Update*>, <gurobi.Var *Awaiting Model Update*>, <gurobi.Var *Awaiting Model Update*>, <gurobi.Var *Awaiting Model Update*>, <gurobi.Var *Awaiting Model Update*>, <gurobi.Var *Awaiting Model Update*>], [<gurobi.Var *Awaiting Model Update*>, <gurobi.Var *Awaiting Model Update*>, <gurobi.Var *Awaiting Model Update*>, <gurobi.Var *Awaiting Model Update*>, <gurobi.Var *Awaiting Model Update*>, <gurobi.Var *Awaiting Model Update*>], [<gurobi.Var *Awaiting Model Update*>, <gurobi.Var *Awaiting Model Update*>, <gurobi.Var *Awaiting Model Update*>, <gurobi.Var *Awaiting Model Update*>, <gurobi.Var *Awaiting Model Update*>, <gurobi.Var *Awaiting Model Update*>], [<gurobi.Var *Awaiting Model Update*>, <gurobi.Var *Awaiting Model Update*>, <gurobi.Var *Awaiting Model Update*>, <gurobi.Var *Awaiting Model Update*>, <gurobi.Var *Awaiting Model Update*>, <gurobi.Var *Awaiting Model Update*>]]\n"
     ]
    }
   ],
   "source": [
    "from gurobipy import *\n",
    "import math\n",
    "\n",
    "K = 2\n",
    "m = Model(\"IntuitionV0\")\n",
    "L = 5\n",
    "N_CRITERIA = 5\n",
    "criteria = [[(m.addVar(name=f\"u_{i}_{l}_{k}\")) for l in range(L+1)] for i in range(N_CRITERIA) for k in range(K)]\n",
    "print(criteria)"
   ]
  },
  {
   "cell_type": "code",
   "execution_count": 51,
   "metadata": {},
   "outputs": [
    {
     "name": "stdout",
     "output_type": "stream",
     "text": [
      "5\n"
     ]
    }
   ],
   "source": [
    "\n",
    "min_int_X = X_re.min(axis=0)\n",
    "min_int_Y = Y_re.min(axis=0)\n",
    "mins = np.min(np.vstack((min_int_X, min_int_Y)), axis = 0)\n",
    "\n",
    "max_int_X = X_re.max(axis=0)\n",
    "max_int_Y = Y_re.max(axis=0)\n",
    "maxs = np.max(np.vstack((max_int_X, max_int_Y)), axis = 0)\n",
    "\n",
    "def segment(i, j, X):\n",
    "    x = X[i][j]\n",
    "    #floor permet de faire l'arrondi \n",
    "    #donne un chiffre entre 0 et L (ici 5) qui donne l'appartenance à l'un des 6 segment possible \n",
    "    #X[i] correspond à une occurence d'un produit traité \n",
    "    #j correspond à l'indice de feature \n",
    "    #correspond au commentaire de la question 2\n",
    "    return math.floor(L * (x - mins[j]) / (maxs[j] - mins[j]))\n",
    "\n",
    "\n",
    "P = []\n",
    "for m in range(2000) :\n",
    "    P.append(segment(m,2, X_re))\n",
    "\n",
    "print(np.max(P))"
   ]
  },
  {
   "cell_type": "code",
   "execution_count": 77,
   "metadata": {},
   "outputs": [
    {
     "data": {
      "text/plain": [
       "[1, 2, 3, 4, 0, 0, 0, 0]"
      ]
     },
     "execution_count": 77,
     "metadata": {},
     "output_type": "execute_result"
    }
   ],
   "source": [
    "[1, 2, 3, 4] + [0, 0, 0, 0]"
   ]
  },
  {
   "cell_type": "code",
   "execution_count": 10,
   "metadata": {},
   "outputs": [
    {
     "ename": "GurobiError",
     "evalue": "Unknown parameter 'u_{?}_{?}_{?}'",
     "output_type": "error",
     "traceback": [
      "\u001b[1;31m---------------------------------------------------------------------------\u001b[0m",
      "\u001b[1;31mGurobiError\u001b[0m                               Traceback (most recent call last)",
      "Cell \u001b[1;32mIn[10], line 235\u001b[0m\n\u001b[0;32m    232\u001b[0m         \u001b[38;5;28;01mfor\u001b[39;00m k \u001b[38;5;129;01min\u001b[39;00m \u001b[38;5;28mrange\u001b[39m(K):\n\u001b[0;32m    233\u001b[0m             valeur_initiales[criteria[j][l][k]] \u001b[38;5;241m=\u001b[39m random\u001b[38;5;241m.\u001b[39mrandom()\n\u001b[1;32m--> 235\u001b[0m \u001b[43mm\u001b[49m\u001b[38;5;241;43m.\u001b[39;49m\u001b[43msetParam\u001b[49m\u001b[43m(\u001b[49m\u001b[38;5;124;43m'\u001b[39;49m\u001b[38;5;124;43mu_\u001b[39;49m\u001b[38;5;124;43m{\u001b[39;49m\u001b[38;5;124;43m?}_\u001b[39;49m\u001b[38;5;124;43m{\u001b[39;49m\u001b[38;5;124;43m?}_\u001b[39;49m\u001b[38;5;124;43m{\u001b[39;49m\u001b[38;5;124;43m?}\u001b[39;49m\u001b[38;5;124;43m'\u001b[39;49m\u001b[43m,\u001b[49m\u001b[43m \u001b[49m\u001b[43mvaleur_initiales\u001b[49m\u001b[43m)\u001b[49m\n\u001b[0;32m    237\u001b[0m \u001b[38;5;66;03m# Résolution du PL\u001b[39;00m\n\u001b[0;32m    238\u001b[0m m\u001b[38;5;241m.\u001b[39moptimize()\n",
      "File \u001b[1;32msrc\\\\gurobipy\\\\model.pxi:1791\u001b[0m, in \u001b[0;36mgurobipy.Model.setParam\u001b[1;34m()\u001b[0m\n",
      "File \u001b[1;32msrc\\\\gurobipy\\\\env.pxi:341\u001b[0m, in \u001b[0;36mgurobipy.Env.setParam\u001b[1;34m()\u001b[0m\n",
      "\u001b[1;31mGurobiError\u001b[0m: Unknown parameter 'u_{?}_{?}_{?}'"
     ]
    }
   ],
   "source": [
    "from gurobipy import *\n",
    "import math\n",
    "import random\n",
    "# Instanciation du modèle\n",
    "m = Model(\"IntuitionV0\")\n",
    "\n",
    "PRECISION = 0.01\n",
    "#Nombre de features\n",
    "N_CRITERIA = len(X_re[0])\n",
    "\n",
    "#Nombre de segment/breakpoints dans toutes les fonctions de score, possible de l'adapter pour chaque feature \n",
    "L = 5\n",
    "#Nombre d'occurence dans le dataset/produits traités \n",
    "N_COMPARAISON = len(X_re)\n",
    "\n",
    "\n",
    "#Nombre de clusters \n",
    "K=2\n",
    "\n",
    "#Majorant contrainte \n",
    "M=4\n",
    "\n",
    "#à définir clairement : \n",
    "\n",
    "\n",
    "\n",
    "\n",
    "criteria = [[[(m.addVar(name=f\"u_{j}_{l}_{k}\")) for k in range(K)] for l in range(L+1)]for j in range(N_CRITERIA) ]\n",
    "\n",
    "sigma_Xplus = [[(m.addVar(name=f\"sigma+_{i}_{k}\")) for k in range(K) ] for i in range(N_COMPARAISON)]\n",
    "sigma_Xminus = [[(m.addVar(name=f\"sigma-_{i}_{k}\")) for k in range(K)] for i in range(N_COMPARAISON)]\n",
    "sigma_Yplus = [[(m.addVar(name=f\"sigma+_{i}_{k}\")) for k in range(K)] for i in range(N_COMPARAISON)]\n",
    "sigma_Yminus = [[(m.addVar(name=f\"sigma-_{i}_{k}\")) for k in range(K)] for i in range(N_COMPARAISON)]\n",
    "\n",
    "\n",
    "\n",
    "z_binary = [[m.addVar(name=f\"z_{i}_{k}\") for k in range(K) ] for i in range(N_COMPARAISON)]\n",
    "\n",
    "#hyperparamètre pour le modèle\n",
    "epsilon = PRECISION\n",
    "# maj du modèle\n",
    "m.update()\n",
    "\n",
    "\n",
    "\n",
    "\n",
    "#récupère les minimum et maximum de chaque feature \n",
    "#mins = (min(X_re.min(axis=0), Y_re.min(axis=0))).any()\n",
    "#maxs = (max(X_re.max(axis=0), Y_re.max(axis=0))).any()\n",
    "\n",
    "min_int_X = X_re.min(axis=0)\n",
    "min_int_Y = Y_re.min(axis=0)\n",
    "mins = np.min(np.vstack((min_int_X, min_int_Y)), axis = 0)\n",
    "\n",
    "max_int_X = X_re.max(axis=0)\n",
    "max_int_Y = Y_re.max(axis=0)\n",
    "maxs = np.max(np.vstack((max_int_X, max_int_Y)), axis = 0)\n",
    "\n",
    "def segment(i, j, X):\n",
    "    x = X[i][j]\n",
    "    #floor permet de faire l'arrondi \n",
    "    #donne un chiffre entre 0 et L (ici 5) qui donne l'appartenance à l'un des 6 segment possible \n",
    "    #X[i] correspond à une occurence d'un produit traité \n",
    "    #j correspond à l'indice de feature \n",
    "    #correspond au commentaire de la question 2\n",
    "    return math.floor(L * (x - mins[j]) / (maxs[j] - mins[j]))\n",
    "\n",
    "#cette fonction précédente permettra a priori de trouver le l de la fonction suivante\n",
    "\n",
    "#l correspond au tronçon sur lequel est la valeur \n",
    "#retourne l'abscisse de gauche ? du tronçon l \n",
    "#appelé xik dans question 3\n",
    "def x_seg(j, seg):\n",
    "    return mins[j] + seg * (maxs[j] - mins[j]) / L\n",
    "\n",
    "#calcule la valeur si(xij)\n",
    "#cad le score partiel pour un feature donné \n",
    "# ?? on obtient le score à partir d'une forme ressemblant au développement limité autour de la valeur de la feature sur le tronçon\n",
    "\n",
    "def u(i,j,k,X,eval : bool = False):\n",
    "    get_val = (lambda v: v.X) if eval else (lambda v: v)\n",
    "    x = X[i][j]\n",
    "    #segm pour le numéro de tronçon\n",
    "    \n",
    "    segm = segment(i, j, X)\n",
    "    \n",
    "    x_segm = x_seg(j, segm)\n",
    "    \n",
    "    x_segm_1 = x_seg(j, segm +1)\n",
    "    \n",
    "\n",
    "\n",
    "    if x == maxs[j]:\n",
    "        return get_val(criteria[j][L][k]) \n",
    "    \n",
    "    S=0\n",
    "    S = get_val(criteria[j][segm][k])\n",
    "    slope = (x - x_segm)/(x_segm_1 - x_segm)\n",
    "    width = get_val(criteria[j][segm+1][k]) - get_val(criteria[j][segm][k])\n",
    "    S =+ slope*width\n",
    "\n",
    "    return S\n",
    "\n",
    "\n",
    "#définissons la somme des fonctions de score pour un produit (de rang i)\n",
    "def s(i, X, k, eval : bool = False):\n",
    "    if not eval : \n",
    "        return quicksum(u(i,j,k,X,False) for j in range(N_CRITERIA))\n",
    "    else : \n",
    "        return sum(u(i,j,k,X,False) for j in range(N_CRITERIA))\n",
    "\n",
    "\n",
    "\n",
    "# Ajout des contraintes\n",
    "\n",
    "#Documentation Gurobi propre\n",
    "\n",
    "\n",
    "\n",
    "# contraintes de préférence des universités\n",
    "for k in range(K): \n",
    "\n",
    "    for i in range(N_COMPARAISON) :\n",
    "        #print(r\"boucle contrainte\",i)\n",
    "        \n",
    "\n",
    "        m.addConstr((s(i, X_re, k, False) - sigma_Xplus[i][k] + sigma_Xminus[i][k]) - (s(i, Y_re, k, False) - sigma_Yplus[i][k] + sigma_Yminus[i][k] + epsilon)<= (M*z_binary[i][k]+ epsilon))\n",
    "        m.addConstr(M*(1-z_binary[i][k])<= (s(i, X_re, k, False) - sigma_Xplus[i][k] + sigma_Xminus[i][k]) - (s(i, Y_re, k, False) - sigma_Yplus[i][k] + sigma_Yminus[i][k] + epsilon))\n",
    "\n",
    "\n",
    "\n",
    "\n",
    "\n",
    "        \n",
    "# Constraint for sigma_Xminus\n",
    "for k in range(K):\n",
    "    for i in range(N_COMPARAISON):\n",
    "        m.addConstr(sigma_Xminus[i][k] >= epsilon)\n",
    "\n",
    "# Constraint for sigma_Xplus\n",
    "for k in range(K):\n",
    "    for i in range(N_COMPARAISON):\n",
    "        m.addConstr(sigma_Xplus[i][k] >= epsilon)\n",
    "\n",
    "# Constraint for sigma_Yminus\n",
    "for k in range(K):\n",
    "    for i in range(N_COMPARAISON):\n",
    "        m.addConstr(sigma_Yminus[i][k] >= epsilon)\n",
    "\n",
    "# Constraint for sigma_Yplus\n",
    "for k in range(K):\n",
    "    for i in range(N_COMPARAISON):\n",
    "        m.addConstr(sigma_Yplus[i][k] >= epsilon)\n",
    "\n",
    "#for sig in sigma_Xminus + sigma_Xplus + sigma_Yminus + sigma_Yplus:\n",
    "#    m.addConstr(sig >= 0)\n",
    "\n",
    "# contrainte 3\n",
    "for k in range(K) :\n",
    "    for j in range(N_CRITERIA):\n",
    "        for l in range(L):\n",
    "            m.addConstr(criteria[j][l+1][k] - criteria[j][l][k] >= epsilon)\n",
    "\n",
    "\n",
    "for k in range(K): \n",
    "    m.addConstr(quicksum(criteria[j][L][k] for j in range(N_CRITERIA)) == 1)\n",
    "#Est ce que l'on veut la somme des abcisses des points de rupture == 1 ou la somme des scores associés à chaque points de rupture ==1\n",
    "#for k in range(K):\n",
    "#    for j in range(N_CRITERIA):\n",
    "#        TEST = [criteria[j][l][k] for l in range(L+1)]\n",
    "#        print(TEST)\n",
    "#        m.addConstr(quicksum(TEST) == 1)\n",
    "\n",
    "# contrainte 4\n",
    "#for k in range(K):\n",
    "#        TEST = np.array([criteria[j][l][k].X for l in range(L+1)])  \n",
    "#        #print(TEST)\n",
    "#        TEST_2 =np.vstack([np.array([ 2, 2, 2, 2, 2, 2]) ,TEST])\n",
    "#        print(TEST_2)\n",
    "#        print(r\"mins\", mins)\n",
    "#        print(r\"mins_ada\", mins_ada)\n",
    "#        m.addConstr(sum(u(1, j, k, TEST_2, False) for j in range(L+1)) == 1)\n",
    "\n",
    "\n",
    "#for k in range(K):\n",
    "#    for j in range(N_CRITERIA):\n",
    "#        Somme = sum(criteria[j][l][k] for l in range(L+1))\n",
    "#        #print(r\"SOMME j, k\", Somme, j, k, )\n",
    "#        m.addConstr(Somme == 1 )\n",
    "\n",
    "#Permet d'avoir des résultats plus cohérents sauf pour les bornes supérieures\n",
    "#for k in range(K):\n",
    "#    for i in range(N_COMPARAISON):\n",
    "#        m.addConstr(s(i, X, k, False)  == 1 )\n",
    "\n",
    "#for k in range(K):\n",
    "#    for i in range(N_COMPARAISON):\n",
    "#        m.addConstr(1 - epsilon <= s(i, X, k, False))\n",
    "\n",
    "# contrainte 5\n",
    "for k in range(K):\n",
    "    for j in range(N_CRITERIA):\n",
    "        #ajustement arbitraire avec 2222 car u() traite toujours des matrices\n",
    "        mins_ada = np.vstack([np.array([ 2, 2, 2, 2]), mins])\n",
    "       \n",
    "        #print(u(1, j,k, mins_ada, False))\n",
    "        #mins correspond aux plus petites valeurs possibles pour chaque critère\n",
    "        m.addConstr(u(1, j,k, mins_ada, False) == 0)\n",
    "\n",
    "\n",
    "        \n",
    "# Flatten the lists of lists into a single list\n",
    "sigma_Xplus_flat = [var for sublist in sigma_Xplus for var in sublist]\n",
    "sigma_Xminus_flat = [var for sublist in sigma_Xminus for var in sublist]\n",
    "sigma_Yminus_flat = [var for sublist in sigma_Yminus for var in sublist]\n",
    "sigma_Yplus_flat = [var for sublist in sigma_Yplus for var in sublist]\n",
    "\n",
    "# Objective function\n",
    "m.setObjective(sum(sigma_Xplus_flat) + sum(sigma_Xminus_flat) + sum(sigma_Yminus_flat) + sum(sigma_Yplus_flat), GRB.MINIMIZE)\n",
    "\n",
    "\n",
    "\n",
    "# Fonction Objectif\n",
    "#m.setObjective(sum(sigma_Xplus) + sum(sigma_Xminus) + sum(sigma_Yminus) + sum(sigma_Yplus), GRB.MINIMIZE)         \n",
    "# Paramétrage (mode mute)\n",
    "#m.Params.Presolve = 0\n",
    "\n",
    "valeur_initiales = {}\n",
    "#Création de valeurs initiales \n",
    "for j in range(N_CRITERIA):\n",
    "    for l in range(L+1):\n",
    "        for k in range(K):\n",
    "            valeur_initiales[criteria[j][l][k]] = random.random()\n",
    "\n",
    "m.setParam('u_{?}_{?}_{?}', valeur_initiales)\n",
    "\n",
    "# Résolution du PL\n",
    "m.optimize()\n",
    "#print(\"La solution optimale est (v0, v1) = {} avec pour objectif z = {}\".format((v0.x, v1.x), m.objVal))\n",
    "print(criteria)"
   ]
  },
  {
   "cell_type": "code",
   "execution_count": 36,
   "metadata": {},
   "outputs": [
    {
     "name": "stdout",
     "output_type": "stream",
     "text": [
      "4\n",
      "2000\n",
      "boucle contrainte 0\n",
      "i dans u 0\n",
      "l dans u 2\n",
      "k dans u 0\n",
      "<gurobi.Var u_0_2_0>\n",
      "<gurobi.Var u_0_3_0>\n",
      "i dans u 1\n",
      "l dans u 1\n",
      "k dans u 0\n",
      "<gurobi.Var u_0_1_1>\n",
      "<gurobi.Var u_0_2_1>\n",
      "i dans u 2\n",
      "l dans u 3\n",
      "k dans u 0\n"
     ]
    },
    {
     "ename": "IndexError",
     "evalue": "list index out of range",
     "output_type": "error",
     "traceback": [
      "\u001b[1;31m---------------------------------------------------------------------------\u001b[0m",
      "\u001b[1;31mIndexError\u001b[0m                                Traceback (most recent call last)",
      "Cell \u001b[1;32mIn[36], line 119\u001b[0m\n\u001b[0;32m    117\u001b[0m \u001b[38;5;28;01mfor\u001b[39;00m i \u001b[38;5;129;01min\u001b[39;00m \u001b[38;5;28mrange\u001b[39m(N_COMPARAISON) :\n\u001b[0;32m    118\u001b[0m     \u001b[38;5;28mprint\u001b[39m(\u001b[38;5;124mr\u001b[39m\u001b[38;5;124m\"\u001b[39m\u001b[38;5;124mboucle contrainte\u001b[39m\u001b[38;5;124m\"\u001b[39m,i)\n\u001b[1;32m--> 119\u001b[0m     A\u001b[38;5;241m=\u001b[39m\u001b[43ms\u001b[49m\u001b[43m(\u001b[49m\u001b[43mX_re\u001b[49m\u001b[43m[\u001b[49m\u001b[43mi\u001b[49m\u001b[43m]\u001b[49m\u001b[43m,\u001b[49m\u001b[43m \u001b[49m\u001b[43mk\u001b[49m\u001b[43m)\u001b[49m \n\u001b[0;32m    120\u001b[0m     B \u001b[38;5;241m=\u001b[39m sigma_Xplus[i][k] \u001b[38;5;241m+\u001b[39m sigma_Xminus[i][k]\n\u001b[0;32m    121\u001b[0m     C\u001b[38;5;241m=\u001b[39ms(Y_re[i], k) \u001b[38;5;241m-\u001b[39m sigma_Yplus[i][k] \u001b[38;5;241m+\u001b[39m sigma_Yminus[i][k] \u001b[38;5;241m+\u001b[39m epsilon\n",
      "Cell \u001b[1;32mIn[36], line 105\u001b[0m, in \u001b[0;36ms\u001b[1;34m(X, k, evalueate)\u001b[0m\n\u001b[0;32m    103\u001b[0m \u001b[38;5;28;01mdef\u001b[39;00m \u001b[38;5;21ms\u001b[39m(X,k, evalueate: \u001b[38;5;28mbool\u001b[39m\u001b[38;5;241m=\u001b[39m\u001b[38;5;28;01mFalse\u001b[39;00m):\n\u001b[0;32m    104\u001b[0m     \u001b[38;5;28;01mif\u001b[39;00m \u001b[38;5;129;01mnot\u001b[39;00m evalueate:\n\u001b[1;32m--> 105\u001b[0m         \u001b[38;5;28;01mreturn\u001b[39;00m \u001b[43mquicksum\u001b[49m\u001b[43m(\u001b[49m\u001b[43mu_i\u001b[49m\u001b[43m(\u001b[49m\u001b[43mi\u001b[49m\u001b[43m,\u001b[49m\u001b[43m \u001b[49m\u001b[43mk\u001b[49m\u001b[43m,\u001b[49m\u001b[43m \u001b[49m\u001b[43mX\u001b[49m\u001b[43m,\u001b[49m\u001b[43m \u001b[49m\u001b[43mevalueate\u001b[49m\u001b[38;5;241;43m=\u001b[39;49m\u001b[38;5;28;43;01mFalse\u001b[39;49;00m\u001b[43m)\u001b[49m\u001b[43m \u001b[49m\u001b[38;5;28;43;01mfor\u001b[39;49;00m\u001b[43m \u001b[49m\u001b[43mi\u001b[49m\u001b[43m \u001b[49m\u001b[38;5;129;43;01min\u001b[39;49;00m\u001b[43m \u001b[49m\u001b[38;5;28;43mrange\u001b[39;49m\u001b[43m(\u001b[49m\u001b[43mN_CRITERIA\u001b[49m\u001b[43m)\u001b[49m\u001b[43m)\u001b[49m\n\u001b[0;32m    106\u001b[0m     \u001b[38;5;28;01melse\u001b[39;00m:\n\u001b[0;32m    107\u001b[0m         \u001b[38;5;28;01mreturn\u001b[39;00m \u001b[38;5;28msum\u001b[39m(u_i(i, k, X, evalueate\u001b[38;5;241m=\u001b[39m\u001b[38;5;28;01mTrue\u001b[39;00m) \u001b[38;5;28;01mfor\u001b[39;00m i \u001b[38;5;129;01min\u001b[39;00m \u001b[38;5;28mrange\u001b[39m(N_CRITERIA))\n",
      "File \u001b[1;32msrc\\\\gurobipy\\\\gurobi.pxi:3842\u001b[0m, in \u001b[0;36mgurobipy.quicksum\u001b[1;34m()\u001b[0m\n",
      "Cell \u001b[1;32mIn[36], line 105\u001b[0m, in \u001b[0;36m<genexpr>\u001b[1;34m(.0)\u001b[0m\n\u001b[0;32m    103\u001b[0m \u001b[38;5;28;01mdef\u001b[39;00m \u001b[38;5;21ms\u001b[39m(X,k, evalueate: \u001b[38;5;28mbool\u001b[39m\u001b[38;5;241m=\u001b[39m\u001b[38;5;28;01mFalse\u001b[39;00m):\n\u001b[0;32m    104\u001b[0m     \u001b[38;5;28;01mif\u001b[39;00m \u001b[38;5;129;01mnot\u001b[39;00m evalueate:\n\u001b[1;32m--> 105\u001b[0m         \u001b[38;5;28;01mreturn\u001b[39;00m quicksum(\u001b[43mu_i\u001b[49m\u001b[43m(\u001b[49m\u001b[43mi\u001b[49m\u001b[43m,\u001b[49m\u001b[43m \u001b[49m\u001b[43mk\u001b[49m\u001b[43m,\u001b[49m\u001b[43m \u001b[49m\u001b[43mX\u001b[49m\u001b[43m,\u001b[49m\u001b[43m \u001b[49m\u001b[43mevalueate\u001b[49m\u001b[38;5;241;43m=\u001b[39;49m\u001b[38;5;28;43;01mFalse\u001b[39;49;00m\u001b[43m)\u001b[49m \u001b[38;5;28;01mfor\u001b[39;00m i \u001b[38;5;129;01min\u001b[39;00m \u001b[38;5;28mrange\u001b[39m(N_CRITERIA))\n\u001b[0;32m    106\u001b[0m     \u001b[38;5;28;01melse\u001b[39;00m:\n\u001b[0;32m    107\u001b[0m         \u001b[38;5;28;01mreturn\u001b[39;00m \u001b[38;5;28msum\u001b[39m(u_i(i, k, X, evalueate\u001b[38;5;241m=\u001b[39m\u001b[38;5;28;01mTrue\u001b[39;00m) \u001b[38;5;28;01mfor\u001b[39;00m i \u001b[38;5;129;01min\u001b[39;00m \u001b[38;5;28mrange\u001b[39m(N_CRITERIA))\n",
      "Cell \u001b[1;32mIn[36], line 94\u001b[0m, in \u001b[0;36mu_i\u001b[1;34m(i, k, X, evalueate)\u001b[0m\n\u001b[0;32m     91\u001b[0m \u001b[38;5;28mprint\u001b[39m(\u001b[38;5;124mr\u001b[39m\u001b[38;5;124m\"\u001b[39m\u001b[38;5;124ml dans u\u001b[39m\u001b[38;5;124m\"\u001b[39m,l)\n\u001b[0;32m     92\u001b[0m \u001b[38;5;28mprint\u001b[39m(\u001b[38;5;124mr\u001b[39m\u001b[38;5;124m\"\u001b[39m\u001b[38;5;124mk dans u\u001b[39m\u001b[38;5;124m\"\u001b[39m,k)\n\u001b[1;32m---> 94\u001b[0m \u001b[38;5;28mprint\u001b[39m(get_val(\u001b[43mcriteria\u001b[49m\u001b[43m[\u001b[49m\u001b[43mi\u001b[49m\u001b[43m]\u001b[49m[l][k]))\n\u001b[0;32m     95\u001b[0m \u001b[38;5;28mprint\u001b[39m(get_val(criteria[i][l \u001b[38;5;241m+\u001b[39m \u001b[38;5;241m1\u001b[39m][k]))\n\u001b[0;32m     98\u001b[0m slope \u001b[38;5;241m=\u001b[39m get_val(criteria[i][l \u001b[38;5;241m+\u001b[39m \u001b[38;5;241m1\u001b[39m][k]) \u001b[38;5;241m-\u001b[39m get_val(criteria[i][l][k]) \u001b[38;5;241m*\u001b[39m L \u001b[38;5;241m/\u001b[39m (maxs[i] \u001b[38;5;241m-\u001b[39m mins[i])\n",
      "\u001b[1;31mIndexError\u001b[0m: list index out of range"
     ]
    }
   ],
   "source": [
    "from gurobipy import *\n",
    "import math\n",
    "# Instanciation du modèle\n",
    "m = Model(\"IntuitionV0\")\n",
    "\n",
    "PRECISION = 0.001\n",
    "#Nombre de features\n",
    "N_CRITERIA = len(X_re[0])\n",
    "print(N_CRITERIA)\n",
    "#Nombre de segment/breakpoints dans toutes les fonctions de score, possible de l'adapter pour chaque feature \n",
    "L = 5\n",
    "#Nombre d'occurence dans le dataset/produits traités \n",
    "N_COMPARAISON = len(X_re)\n",
    "print(N_COMPARAISON)\n",
    "\n",
    "#Nombre de clusters \n",
    "K=2\n",
    "\n",
    "#Majorant contrainte \n",
    "M=4\n",
    "\n",
    "#à définir clairement : \n",
    "\n",
    "\n",
    "criteria = [[[(m.addVar(name=f\"u_{i}_{l}_{k}\")) for i in range(N_CRITERIA)] for l in range(L+1)] for k in range(K)]\n",
    "\n",
    "sigma_Xplus = [[(m.addVar(name=f\"sigma+_{i}_{k}\")) for i in range(N_COMPARAISON)] for k in range(K)]\n",
    "sigma_Xminus = [[(m.addVar(name=f\"sigma-_{i}_{k}\")) for i in range(N_COMPARAISON)] for k in range(K)]\n",
    "sigma_Yplus = [[(m.addVar(name=f\"sigma+_{i}_{k}\")) for i in range(N_COMPARAISON)] for k in range(K)]\n",
    "sigma_Yminus = [[(m.addVar(name=f\"sigma-_{i}_{k}\")) for i in range(N_COMPARAISON)] for k in range(K)]\n",
    "\n",
    "\n",
    "#sigma_Xplus = [(m.addVar(name=f\"sigma+_{i}_{k}\") for i in range(N_COMPARAISON))for k in range(K)]\n",
    "#sigma_Xminus = [(m.addVar(name=f\"sigma-_{i}_{k}\") for i in range(N_COMPARAISON))for k in range(K)]\n",
    "\n",
    "#sigma_Yplus = [(m.addVar(name=f\"sigma+_{i}_{k}\") for i in range(N_COMPARAISON))for k in range(K)]\n",
    "#sigma_Yminus = [(m.addVar(name=f\"sigma-_{i}_{k}\") for i in range(N_COMPARAISON))for k in range(K)]\n",
    "\n",
    "z_binary = [[m.addVar(name=f\"z_{i}_{k}\") for i in range(N_COMPARAISON)] for k in range(K)]\n",
    "\n",
    "#hyperparamètre pour le modèle\n",
    "epsilon = PRECISION\n",
    "# maj du modèle\n",
    "m.update()\n",
    "\n",
    "#récupère les minimum et maximum de chaque feature \n",
    "#mins = (min(X_re.min(axis=0), Y_re.min(axis=0))).any()\n",
    "#maxs = (max(X_re.max(axis=0), Y_re.max(axis=0))).any()\n",
    "\n",
    "min_int_X = X_re.min(axis=0)\n",
    "min_int_Y = Y_re.min(axis=0)\n",
    "mins = np.min(np.vstack((min_int_X, min_int_Y)), axis = 0)\n",
    "\n",
    "max_int_X = X_re.max(axis=0)\n",
    "max_int_Y = Y_re.max(axis=0)\n",
    "maxs = np.max(np.vstack((max_int_X, max_int_Y)), axis = 0)\n",
    "\n",
    "def li(i, X):\n",
    "    x = X[i]\n",
    "    #floor permet de faire l'arrondi \n",
    "    #donne un chiffre entre 0 et L (ici 4) qui donne l'appartenance à l'un des 5 segment possible \n",
    "    #X correspond à une occurence d'un produit traité \n",
    "    #i correspond à l'indice de feature \n",
    "    #correspond au commentaire de la question 2\n",
    "    return math.floor(L * (x - mins[i]) / (maxs[i] - mins[i]))\n",
    "\n",
    "#cette fonction précédente permettra a priori de trouver le l de la fonction suivante\n",
    "\n",
    "#l correspond au tronçon sur lequel est la valeur \n",
    "#retourne l'abscisse de gauche ? du tronçon l \n",
    "#appeler xik dans question 3\n",
    "def xl(i, l):\n",
    "    return mins[i] + l * (maxs[i] - mins[i]) / L\n",
    "\n",
    "#calcule la valeur si(xij)\n",
    "#cad le score partiel pour un feature donné \n",
    "# ?? on obtient le score à partir d'une forme ressemblant au développement limité autour de la valeur de la feature sur le tronçon\n",
    "\n",
    "def u_i(i, k,  X, evalueate: bool=False):\n",
    "    get_val = (lambda v: v.X) if evalueate else (lambda v: v)\n",
    "    x = X[i]\n",
    "    l = li(i,X)\n",
    "    \n",
    "    if x == maxs[i]:\n",
    "        return get_val(criteria[i][-1][k]) \n",
    "\n",
    "    x_l = xl(i, l)\n",
    "    width = x - x_l\n",
    "\n",
    "    print(r\"i dans u\",i)\n",
    "    print(r\"l dans u\",l)\n",
    "    print(r\"k dans u\",k)\n",
    "\n",
    "    print(get_val(criteria[i][l][k]))\n",
    "    print(get_val(criteria[i][l + 1][k]))\n",
    "    \n",
    "\n",
    "    slope = get_val(criteria[i][l + 1][k]) - get_val(criteria[i][l][k]) * L / (maxs[i] - mins[i])\n",
    "    return get_val(criteria[i][l][k]) + slope * width\n",
    "\n",
    "#fait la somme pour calculer le score de chaque produit étudié \n",
    "#quicksum : fonction propre à gurobi pour faire de l'optimisation sous contrainte de somme \n",
    "def s(X,k, evalueate: bool=False):\n",
    "    if not evalueate:\n",
    "        return quicksum(u_i(i, k, X, evalueate=False) for i in range(N_CRITERIA))\n",
    "    else:\n",
    "        return sum(u_i(i, k, X, evalueate=True) for i in range(N_CRITERIA))\n",
    "\n",
    "\n",
    "# Ajout des contraintes\n",
    "\n",
    "#Documentation Gurobi propre\n",
    "\n",
    "# contraintes de préférence des universités\n",
    "for k in range(K): \n",
    "\n",
    "    for i in range(N_COMPARAISON) :\n",
    "        print(r\"boucle contrainte\",i)\n",
    "        A=s(X_re[i], k) \n",
    "        B = sigma_Xplus[i][k] + sigma_Xminus[i][k]\n",
    "        C=s(Y_re[i], k) - sigma_Yplus[i][k] + sigma_Yminus[i][k] + epsilon\n",
    "        \n",
    "        \n",
    "        m.addConstr(M*(1-z_binary[i][k])<= (s(X_re[i], k) - sigma_Xplus[i][k] + sigma_Xminus[i][k]) - (s(Y_re[i], k) - sigma_Yplus[i][k] + sigma_Yminus[i][k] + epsilon))\n",
    "        m.addConstr((s(X_re[i], k) - sigma_Xplus[i][k] + sigma_Xminus[i][k]) - (s(Y_re[i], k) - sigma_Yplus[i][k] + sigma_Yminus[i][k] + epsilon)<= (M*z_binary[i][k]+ epsilon))\n",
    "        #m.addConstr(s(X_re[i]) - sigma_Xplus[i] + sigma_Xminus[i] >=  s(Y_re[i]) - sigma_Yplus[i] + sigma_Yminus[i] + epsilon)\n",
    "\n",
    "\n",
    "for sig in sigma_Xminus + sigma_Xplus + sigma_Yminus + sigma_Yplus:\n",
    "    m.addConstr(sig >= 0)\n",
    "\n",
    "# contrainte 3\n",
    "for k in range(K) :\n",
    "    for l in range(L-1):\n",
    "        for i in range(N_CRITERIA):\n",
    "            m.addConstr(criteria[i][l+1][k] - criteria[i][l][k] >= epsilon)\n",
    "\n",
    "# contrainte 4\n",
    "for k in range(K):\n",
    "    for i in range(N_CRITERIA):\n",
    "        m.addConstr(u_i(i,k, mins) == 0)\n",
    "\n",
    "# contrainte 5\n",
    "for k in range(K):\n",
    "    m.addConstr(quicksum(u_i(i, k, maxs) for i in range(N_CRITERIA)) == 1)\n",
    "\n",
    "\n",
    "# Fonction Objectif\n",
    "m.setObjective(sum(sigma_Xplus) + sum(sigma_Xminus) + sum(sigma_Yminus) + sum(sigma_Yplus), GRB.MINIMIZE)         \n",
    "# Paramétrage (mode mute)\n",
    "m.Params.Presolve = 0\n",
    "# Résolution du PL\n",
    "m.optimize()\n",
    "#print(\"La solution optimale est (v0, v1) = {} avec pour objectif z = {}\".format((v0.x, v1.x), m.objVal))\n",
    "print(criteria)"
   ]
  },
  {
   "cell_type": "markdown",
   "metadata": {},
   "source": []
  },
  {
   "cell_type": "code",
   "execution_count": 51,
   "metadata": {},
   "outputs": [
    {
     "name": "stdout",
     "output_type": "stream",
     "text": [
      "u_0_0 0.0\n"
     ]
    },
    {
     "ename": "TypeError",
     "evalue": "float() argument must be a string or a real number, not 'gurobipy.LinExpr'",
     "output_type": "error",
     "traceback": [
      "\u001b[1;31m---------------------------------------------------------------------------\u001b[0m",
      "\u001b[1;31mTypeError\u001b[0m                                 Traceback (most recent call last)",
      "Cell \u001b[1;32mIn[51], line 9\u001b[0m\n\u001b[0;32m      7\u001b[0m     \u001b[38;5;28;01mfor\u001b[39;00m j, crit \u001b[38;5;129;01min\u001b[39;00m \u001b[38;5;28menumerate\u001b[39m(crits):\n\u001b[0;32m      8\u001b[0m         \u001b[38;5;28mprint\u001b[39m(crit\u001b[38;5;241m.\u001b[39mvarName, crit\u001b[38;5;241m.\u001b[39mX)\n\u001b[1;32m----> 9\u001b[0m         \u001b[43maxs\u001b[49m\u001b[43m[\u001b[49m\u001b[43mi\u001b[49m\u001b[43m]\u001b[49m\u001b[38;5;241;43m.\u001b[39;49m\u001b[43mbar\u001b[49m\u001b[43m(\u001b[49m\u001b[43mcrits\u001b[49m\u001b[43m,\u001b[49m\u001b[43m \u001b[49m\u001b[43mcrit\u001b[49m\u001b[43m,\u001b[49m\u001b[43m \u001b[49m\u001b[43mlabel\u001b[49m\u001b[38;5;241;43m=\u001b[39;49m\u001b[38;5;124;43mf\u001b[39;49m\u001b[38;5;124;43m'\u001b[39;49m\u001b[38;5;124;43mSubplot \u001b[39;49m\u001b[38;5;132;43;01m{\u001b[39;49;00m\u001b[43mi\u001b[49m\u001b[38;5;241;43m+\u001b[39;49m\u001b[38;5;241;43m1\u001b[39;49m\u001b[38;5;132;43;01m}\u001b[39;49;00m\u001b[38;5;124;43m'\u001b[39;49m\u001b[43m)\u001b[49m\n\u001b[0;32m     11\u001b[0m \u001b[38;5;66;03m# Adjust layout and display the plots\u001b[39;00m\n\u001b[0;32m     12\u001b[0m plt\u001b[38;5;241m.\u001b[39mtight_layout()\n",
      "File \u001b[1;32m~\\AppData\\Local\\Packages\\PythonSoftwareFoundation.Python.3.11_qbz5n2kfra8p0\\LocalCache\\local-packages\\Python311\\site-packages\\matplotlib\\__init__.py:1478\u001b[0m, in \u001b[0;36m_preprocess_data.<locals>.inner\u001b[1;34m(ax, data, *args, **kwargs)\u001b[0m\n\u001b[0;32m   1475\u001b[0m \u001b[38;5;129m@functools\u001b[39m\u001b[38;5;241m.\u001b[39mwraps(func)\n\u001b[0;32m   1476\u001b[0m \u001b[38;5;28;01mdef\u001b[39;00m \u001b[38;5;21minner\u001b[39m(ax, \u001b[38;5;241m*\u001b[39margs, data\u001b[38;5;241m=\u001b[39m\u001b[38;5;28;01mNone\u001b[39;00m, \u001b[38;5;241m*\u001b[39m\u001b[38;5;241m*\u001b[39mkwargs):\n\u001b[0;32m   1477\u001b[0m     \u001b[38;5;28;01mif\u001b[39;00m data \u001b[38;5;129;01mis\u001b[39;00m \u001b[38;5;28;01mNone\u001b[39;00m:\n\u001b[1;32m-> 1478\u001b[0m         \u001b[38;5;28;01mreturn\u001b[39;00m \u001b[43mfunc\u001b[49m\u001b[43m(\u001b[49m\u001b[43max\u001b[49m\u001b[43m,\u001b[49m\u001b[43m \u001b[49m\u001b[38;5;241;43m*\u001b[39;49m\u001b[38;5;28;43mmap\u001b[39;49m\u001b[43m(\u001b[49m\u001b[43msanitize_sequence\u001b[49m\u001b[43m,\u001b[49m\u001b[43m \u001b[49m\u001b[43margs\u001b[49m\u001b[43m)\u001b[49m\u001b[43m,\u001b[49m\u001b[43m \u001b[49m\u001b[38;5;241;43m*\u001b[39;49m\u001b[38;5;241;43m*\u001b[39;49m\u001b[43mkwargs\u001b[49m\u001b[43m)\u001b[49m\n\u001b[0;32m   1480\u001b[0m     bound \u001b[38;5;241m=\u001b[39m new_sig\u001b[38;5;241m.\u001b[39mbind(ax, \u001b[38;5;241m*\u001b[39margs, \u001b[38;5;241m*\u001b[39m\u001b[38;5;241m*\u001b[39mkwargs)\n\u001b[0;32m   1481\u001b[0m     auto_label \u001b[38;5;241m=\u001b[39m (bound\u001b[38;5;241m.\u001b[39marguments\u001b[38;5;241m.\u001b[39mget(label_namer)\n\u001b[0;32m   1482\u001b[0m                   \u001b[38;5;129;01mor\u001b[39;00m bound\u001b[38;5;241m.\u001b[39mkwargs\u001b[38;5;241m.\u001b[39mget(label_namer))\n",
      "File \u001b[1;32m~\\AppData\\Local\\Packages\\PythonSoftwareFoundation.Python.3.11_qbz5n2kfra8p0\\LocalCache\\local-packages\\Python311\\site-packages\\matplotlib\\axes\\_axes.py:2534\u001b[0m, in \u001b[0;36mAxes.bar\u001b[1;34m(self, x, height, width, bottom, align, **kwargs)\u001b[0m\n\u001b[0;32m   2532\u001b[0m     \u001b[38;5;28;01melse\u001b[39;00m:  \u001b[38;5;66;03m# horizontal\u001b[39;00m\n\u001b[0;32m   2533\u001b[0m         r\u001b[38;5;241m.\u001b[39msticky_edges\u001b[38;5;241m.\u001b[39mx\u001b[38;5;241m.\u001b[39mappend(l)\n\u001b[1;32m-> 2534\u001b[0m     \u001b[38;5;28;43mself\u001b[39;49m\u001b[38;5;241;43m.\u001b[39;49m\u001b[43madd_patch\u001b[49m\u001b[43m(\u001b[49m\u001b[43mr\u001b[49m\u001b[43m)\u001b[49m\n\u001b[0;32m   2535\u001b[0m     patches\u001b[38;5;241m.\u001b[39mappend(r)\n\u001b[0;32m   2537\u001b[0m \u001b[38;5;28;01mif\u001b[39;00m xerr \u001b[38;5;129;01mis\u001b[39;00m \u001b[38;5;129;01mnot\u001b[39;00m \u001b[38;5;28;01mNone\u001b[39;00m \u001b[38;5;129;01mor\u001b[39;00m yerr \u001b[38;5;129;01mis\u001b[39;00m \u001b[38;5;129;01mnot\u001b[39;00m \u001b[38;5;28;01mNone\u001b[39;00m:\n",
      "File \u001b[1;32m~\\AppData\\Local\\Packages\\PythonSoftwareFoundation.Python.3.11_qbz5n2kfra8p0\\LocalCache\\local-packages\\Python311\\site-packages\\matplotlib\\axes\\_base.py:2384\u001b[0m, in \u001b[0;36m_AxesBase.add_patch\u001b[1;34m(self, p)\u001b[0m\n\u001b[0;32m   2382\u001b[0m \u001b[38;5;28;01mif\u001b[39;00m p\u001b[38;5;241m.\u001b[39mget_clip_path() \u001b[38;5;129;01mis\u001b[39;00m \u001b[38;5;28;01mNone\u001b[39;00m:\n\u001b[0;32m   2383\u001b[0m     p\u001b[38;5;241m.\u001b[39mset_clip_path(\u001b[38;5;28mself\u001b[39m\u001b[38;5;241m.\u001b[39mpatch)\n\u001b[1;32m-> 2384\u001b[0m \u001b[38;5;28;43mself\u001b[39;49m\u001b[38;5;241;43m.\u001b[39;49m\u001b[43m_update_patch_limits\u001b[49m\u001b[43m(\u001b[49m\u001b[43mp\u001b[49m\u001b[43m)\u001b[49m\n\u001b[0;32m   2385\u001b[0m \u001b[38;5;28mself\u001b[39m\u001b[38;5;241m.\u001b[39m_children\u001b[38;5;241m.\u001b[39mappend(p)\n\u001b[0;32m   2386\u001b[0m p\u001b[38;5;241m.\u001b[39m_remove_method \u001b[38;5;241m=\u001b[39m \u001b[38;5;28mself\u001b[39m\u001b[38;5;241m.\u001b[39m_children\u001b[38;5;241m.\u001b[39mremove\n",
      "File \u001b[1;32m~\\AppData\\Local\\Packages\\PythonSoftwareFoundation.Python.3.11_qbz5n2kfra8p0\\LocalCache\\local-packages\\Python311\\site-packages\\matplotlib\\axes\\_base.py:2415\u001b[0m, in \u001b[0;36m_AxesBase._update_patch_limits\u001b[1;34m(self, patch)\u001b[0m\n\u001b[0;32m   2412\u001b[0m \u001b[38;5;28;01mif\u001b[39;00m \u001b[38;5;28mlen\u001b[39m(vertices):\n\u001b[0;32m   2413\u001b[0m     vertices \u001b[38;5;241m=\u001b[39m np\u001b[38;5;241m.\u001b[39mvstack(vertices)\n\u001b[1;32m-> 2415\u001b[0m patch_trf \u001b[38;5;241m=\u001b[39m \u001b[43mpatch\u001b[49m\u001b[38;5;241;43m.\u001b[39;49m\u001b[43mget_transform\u001b[49m\u001b[43m(\u001b[49m\u001b[43m)\u001b[49m\n\u001b[0;32m   2416\u001b[0m updatex, updatey \u001b[38;5;241m=\u001b[39m patch_trf\u001b[38;5;241m.\u001b[39mcontains_branch_seperately(\u001b[38;5;28mself\u001b[39m\u001b[38;5;241m.\u001b[39mtransData)\n\u001b[0;32m   2417\u001b[0m \u001b[38;5;28;01mif\u001b[39;00m \u001b[38;5;129;01mnot\u001b[39;00m (updatex \u001b[38;5;129;01mor\u001b[39;00m updatey):\n",
      "File \u001b[1;32m~\\AppData\\Local\\Packages\\PythonSoftwareFoundation.Python.3.11_qbz5n2kfra8p0\\LocalCache\\local-packages\\Python311\\site-packages\\matplotlib\\patches.py:261\u001b[0m, in \u001b[0;36mPatch.get_transform\u001b[1;34m(self)\u001b[0m\n\u001b[0;32m    259\u001b[0m \u001b[38;5;28;01mdef\u001b[39;00m \u001b[38;5;21mget_transform\u001b[39m(\u001b[38;5;28mself\u001b[39m):\n\u001b[0;32m    260\u001b[0m \u001b[38;5;250m    \u001b[39m\u001b[38;5;124;03m\"\"\"Return the `~.transforms.Transform` applied to the `Patch`.\"\"\"\u001b[39;00m\n\u001b[1;32m--> 261\u001b[0m     \u001b[38;5;28;01mreturn\u001b[39;00m \u001b[38;5;28;43mself\u001b[39;49m\u001b[38;5;241;43m.\u001b[39;49m\u001b[43mget_patch_transform\u001b[49m\u001b[43m(\u001b[49m\u001b[43m)\u001b[49m \u001b[38;5;241m+\u001b[39m artist\u001b[38;5;241m.\u001b[39mArtist\u001b[38;5;241m.\u001b[39mget_transform(\u001b[38;5;28mself\u001b[39m)\n",
      "File \u001b[1;32m~\\AppData\\Local\\Packages\\PythonSoftwareFoundation.Python.3.11_qbz5n2kfra8p0\\LocalCache\\local-packages\\Python311\\site-packages\\matplotlib\\patches.py:751\u001b[0m, in \u001b[0;36mRectangle.get_patch_transform\u001b[1;34m(self)\u001b[0m\n\u001b[0;32m    746\u001b[0m \u001b[38;5;28;01mdef\u001b[39;00m \u001b[38;5;21mget_patch_transform\u001b[39m(\u001b[38;5;28mself\u001b[39m):\n\u001b[0;32m    747\u001b[0m     \u001b[38;5;66;03m# Note: This cannot be called until after this has been added to\u001b[39;00m\n\u001b[0;32m    748\u001b[0m     \u001b[38;5;66;03m# an Axes, otherwise unit conversion will fail. This makes it very\u001b[39;00m\n\u001b[0;32m    749\u001b[0m     \u001b[38;5;66;03m# important to call the accessor method and not directly access the\u001b[39;00m\n\u001b[0;32m    750\u001b[0m     \u001b[38;5;66;03m# transformation member variable.\u001b[39;00m\n\u001b[1;32m--> 751\u001b[0m     bbox \u001b[38;5;241m=\u001b[39m \u001b[38;5;28;43mself\u001b[39;49m\u001b[38;5;241;43m.\u001b[39;49m\u001b[43mget_bbox\u001b[49m\u001b[43m(\u001b[49m\u001b[43m)\u001b[49m\n\u001b[0;32m    752\u001b[0m     \u001b[38;5;28;01mif\u001b[39;00m \u001b[38;5;28mself\u001b[39m\u001b[38;5;241m.\u001b[39mrotation_point \u001b[38;5;241m==\u001b[39m \u001b[38;5;124m'\u001b[39m\u001b[38;5;124mcenter\u001b[39m\u001b[38;5;124m'\u001b[39m:\n\u001b[0;32m    753\u001b[0m         width, height \u001b[38;5;241m=\u001b[39m bbox\u001b[38;5;241m.\u001b[39mx1 \u001b[38;5;241m-\u001b[39m bbox\u001b[38;5;241m.\u001b[39mx0, bbox\u001b[38;5;241m.\u001b[39my1 \u001b[38;5;241m-\u001b[39m bbox\u001b[38;5;241m.\u001b[39my0\n",
      "File \u001b[1;32m~\\AppData\\Local\\Packages\\PythonSoftwareFoundation.Python.3.11_qbz5n2kfra8p0\\LocalCache\\local-packages\\Python311\\site-packages\\matplotlib\\patches.py:882\u001b[0m, in \u001b[0;36mRectangle.get_bbox\u001b[1;34m(self)\u001b[0m\n\u001b[0;32m    880\u001b[0m \u001b[38;5;28;01mdef\u001b[39;00m \u001b[38;5;21mget_bbox\u001b[39m(\u001b[38;5;28mself\u001b[39m):\n\u001b[0;32m    881\u001b[0m \u001b[38;5;250m    \u001b[39m\u001b[38;5;124;03m\"\"\"Return the `.Bbox`.\"\"\"\u001b[39;00m\n\u001b[1;32m--> 882\u001b[0m     \u001b[38;5;28;01mreturn\u001b[39;00m \u001b[43mtransforms\u001b[49m\u001b[38;5;241;43m.\u001b[39;49m\u001b[43mBbox\u001b[49m\u001b[38;5;241;43m.\u001b[39;49m\u001b[43mfrom_extents\u001b[49m\u001b[43m(\u001b[49m\u001b[38;5;241;43m*\u001b[39;49m\u001b[38;5;28;43mself\u001b[39;49m\u001b[38;5;241;43m.\u001b[39;49m\u001b[43m_convert_units\u001b[49m\u001b[43m(\u001b[49m\u001b[43m)\u001b[49m\u001b[43m)\u001b[49m\n",
      "File \u001b[1;32m~\\AppData\\Local\\Packages\\PythonSoftwareFoundation.Python.3.11_qbz5n2kfra8p0\\LocalCache\\local-packages\\Python311\\site-packages\\matplotlib\\transforms.py:829\u001b[0m, in \u001b[0;36mBbox.from_extents\u001b[1;34m(minpos, *args)\u001b[0m\n\u001b[0;32m    813\u001b[0m \u001b[38;5;129m@staticmethod\u001b[39m\n\u001b[0;32m    814\u001b[0m \u001b[38;5;28;01mdef\u001b[39;00m \u001b[38;5;21mfrom_extents\u001b[39m(\u001b[38;5;241m*\u001b[39margs, minpos\u001b[38;5;241m=\u001b[39m\u001b[38;5;28;01mNone\u001b[39;00m):\n\u001b[0;32m    815\u001b[0m \u001b[38;5;250m    \u001b[39m\u001b[38;5;124;03m\"\"\"\u001b[39;00m\n\u001b[0;32m    816\u001b[0m \u001b[38;5;124;03m    Create a new Bbox from *left*, *bottom*, *right* and *top*.\u001b[39;00m\n\u001b[0;32m    817\u001b[0m \n\u001b[1;32m   (...)\u001b[0m\n\u001b[0;32m    827\u001b[0m \u001b[38;5;124;03m        scales where negative bounds result in floating point errors.\u001b[39;00m\n\u001b[0;32m    828\u001b[0m \u001b[38;5;124;03m    \"\"\"\u001b[39;00m\n\u001b[1;32m--> 829\u001b[0m     bbox \u001b[38;5;241m=\u001b[39m \u001b[43mBbox\u001b[49m\u001b[43m(\u001b[49m\u001b[43mnp\u001b[49m\u001b[38;5;241;43m.\u001b[39;49m\u001b[43mreshape\u001b[49m\u001b[43m(\u001b[49m\u001b[43margs\u001b[49m\u001b[43m,\u001b[49m\u001b[43m \u001b[49m\u001b[43m(\u001b[49m\u001b[38;5;241;43m2\u001b[39;49m\u001b[43m,\u001b[49m\u001b[43m \u001b[49m\u001b[38;5;241;43m2\u001b[39;49m\u001b[43m)\u001b[49m\u001b[43m)\u001b[49m\u001b[43m)\u001b[49m\n\u001b[0;32m    830\u001b[0m     \u001b[38;5;28;01mif\u001b[39;00m minpos \u001b[38;5;129;01mis\u001b[39;00m \u001b[38;5;129;01mnot\u001b[39;00m \u001b[38;5;28;01mNone\u001b[39;00m:\n\u001b[0;32m    831\u001b[0m         bbox\u001b[38;5;241m.\u001b[39m_minpos[:] \u001b[38;5;241m=\u001b[39m minpos\n",
      "File \u001b[1;32m~\\AppData\\Local\\Packages\\PythonSoftwareFoundation.Python.3.11_qbz5n2kfra8p0\\LocalCache\\local-packages\\Python311\\site-packages\\matplotlib\\transforms.py:766\u001b[0m, in \u001b[0;36mBbox.__init__\u001b[1;34m(self, points, **kwargs)\u001b[0m\n\u001b[0;32m    759\u001b[0m \u001b[38;5;250m\u001b[39m\u001b[38;5;124;03m\"\"\"\u001b[39;00m\n\u001b[0;32m    760\u001b[0m \u001b[38;5;124;03mParameters\u001b[39;00m\n\u001b[0;32m    761\u001b[0m \u001b[38;5;124;03m----------\u001b[39;00m\n\u001b[0;32m    762\u001b[0m \u001b[38;5;124;03mpoints : `~numpy.ndarray`\u001b[39;00m\n\u001b[0;32m    763\u001b[0m \u001b[38;5;124;03m    A (2, 2) array of the form ``[[x0, y0], [x1, y1]]``.\u001b[39;00m\n\u001b[0;32m    764\u001b[0m \u001b[38;5;124;03m\"\"\"\u001b[39;00m\n\u001b[0;32m    765\u001b[0m \u001b[38;5;28msuper\u001b[39m()\u001b[38;5;241m.\u001b[39m\u001b[38;5;21m__init__\u001b[39m(\u001b[38;5;241m*\u001b[39m\u001b[38;5;241m*\u001b[39mkwargs)\n\u001b[1;32m--> 766\u001b[0m points \u001b[38;5;241m=\u001b[39m np\u001b[38;5;241m.\u001b[39masarray(points, \u001b[38;5;28mfloat\u001b[39m)\n\u001b[0;32m    767\u001b[0m \u001b[38;5;28;01mif\u001b[39;00m points\u001b[38;5;241m.\u001b[39mshape \u001b[38;5;241m!=\u001b[39m (\u001b[38;5;241m2\u001b[39m, \u001b[38;5;241m2\u001b[39m):\n\u001b[0;32m    768\u001b[0m     \u001b[38;5;28;01mraise\u001b[39;00m \u001b[38;5;167;01mValueError\u001b[39;00m(\u001b[38;5;124m'\u001b[39m\u001b[38;5;124mBbox points must be of the form \u001b[39m\u001b[38;5;124m'\u001b[39m\n\u001b[0;32m    769\u001b[0m                      \u001b[38;5;124m'\u001b[39m\u001b[38;5;124m\"\u001b[39m\u001b[38;5;124m[[x0, y0], [x1, y1]]\u001b[39m\u001b[38;5;124m\"\u001b[39m\u001b[38;5;124m.\u001b[39m\u001b[38;5;124m'\u001b[39m)\n",
      "\u001b[1;31mTypeError\u001b[0m: float() argument must be a string or a real number, not 'gurobipy.LinExpr'"
     ]
    },
    {
     "data": {
      "image/png": "[encoded data removed]",
      "text/plain": [
       "<Figure size 1000x800 with 4 Axes>"
      ]
     },
     "metadata": {},
     "output_type": "display_data"
    }
   ],
   "source": [
    "import matplotlib.pyplot as plt\n",
    "\n",
    "fig, axs = plt.subplots(2, 2, figsize=(10, 8))\n",
    "axs = axs.flatten()\n",
    "\n",
    "for i, crits in enumerate(criteria):\n",
    "    for j, crit in enumerate(crits):\n",
    "        print(crit.varName, crit.X)\n",
    "        axs[i].bar(crits, crit, label=f'Subplot {i+1}')\n",
    "\n",
    "# Adjust layout and display the plots\n",
    "plt.tight_layout()\n",
    "plt.show()"
   ]
  },
  {
   "cell_type": "code",
   "execution_count": 13,
   "metadata": {},
   "outputs": [
    {
     "data": {
      "text/plain": [
       "<python.models.RandomExampleModel at 0x1bb3bd74510>"
      ]
     },
     "execution_count": 13,
     "metadata": {},
     "output_type": "execute_result"
    }
   ],
   "source": [
    "# Let's train an example model\n",
    "model = RandomExampleModel() # Instantiation of the model with hyperparameters, if needed\n",
    "model.fit(X, Y) # Training of the model, using preference data"
   ]
  },
  {
   "cell_type": "code",
   "execution_count": 45,
   "metadata": {},
   "outputs": [
    {
     "ename": "NameError",
     "evalue": "name 'IntuitionV0' is not defined",
     "output_type": "error",
     "traceback": [
      "\u001b[1;31m---------------------------------------------------------------------------\u001b[0m",
      "\u001b[1;31mNameError\u001b[0m                                 Traceback (most recent call last)",
      "Cell \u001b[1;32mIn[45], line 1\u001b[0m\n\u001b[1;32m----> 1\u001b[0m model \u001b[38;5;241m=\u001b[39m \u001b[43mIntuitionV0\u001b[49m()\n\u001b[0;32m      2\u001b[0m model\u001b[38;5;241m.\u001b[39mfit(X, Y)\n",
      "\u001b[1;31mNameError\u001b[0m: name 'IntuitionV0' is not defined"
     ]
    }
   ],
   "source": [
    "model = IntuitionV0()\n",
    "model.fit(X, Y)"
   ]
  },
  {
   "cell_type": "code",
   "execution_count": 11,
   "metadata": {},
   "outputs": [
    {
     "name": "stdout",
     "output_type": "stream",
     "text": [
      "[[-0.06326043 -0.18471619]\n",
      " [-0.20129649 -0.33004454]\n",
      " [ 0.00500771 -0.09058298]\n",
      " [ 0.07658458  0.12828252]\n",
      " [-0.06293998 -0.07432317]]\n"
     ]
    }
   ],
   "source": [
    "# First, let's see how our model reconsiders our preferences\n",
    "# Our data preferences were X[i] >> Y[i] for all i, let's see if our model agrees\n",
    "print((model.predict_utility(X) - model.predict_utility(Y))[:5]) # Preferred item has a higher utility\n",
    "\n",
    "# predict_utility returns utility of samples for each cluster, returning shape (n_samples, n_clusters)"
   ]
  },
  {
   "cell_type": "code",
   "execution_count": 15,
   "metadata": {},
   "outputs": [
    {
     "name": "stdout",
     "output_type": "stream",
     "text": [
      "[[0.58784814 0.5184542 ]\n",
      " [0.53863346 0.476744  ]\n",
      " [0.45795201 0.43516468]\n",
      " [0.51788081 0.47398788]\n",
      " [0.33944544 0.36321772]]\n",
      "[[0.65110857 0.7031704 ]\n",
      " [0.73992996 0.80678855]\n",
      " [0.4529443  0.52574767]\n",
      " [0.44129623 0.34570536]\n",
      " [0.40238542 0.4375409 ]]\n"
     ]
    }
   ],
   "source": [
    "print(model.predict_utility(X)[:5])\n",
    "print(model.predict_utility(Y)[:5])\n"
   ]
  },
  {
   "cell_type": "code",
   "execution_count": 12,
   "metadata": {},
   "outputs": [
    {
     "name": "stdout",
     "output_type": "stream",
     "text": [
      "[[0 0]\n",
      " [0 0]\n",
      " [1 0]\n",
      " [1 1]\n",
      " [0 0]]\n"
     ]
    }
   ],
   "source": [
    "# Or we can directly use the predict_preference method:\n",
    "print(model.predict_preference(X, Y)[:5]) # For each cluster we see if X is preferred to Y (0) or the contrary (1)\n",
    "# predict_preference returns preference of samples for each cluster, returning shape (n_samples, n_clusters)\n",
    "# 0 means that the cluster prefers first argument (here X[i]), 1 means that the cluster prefers second argument (here Y[i])"
   ]
  },
  {
   "cell_type": "code",
   "execution_count": 16,
   "metadata": {},
   "outputs": [
    {
     "name": "stdout",
     "output_type": "stream",
     "text": [
      "Percentage of explained preferences for 5 first samples: 0.8\n"
     ]
    }
   ],
   "source": [
    "# We consider that our model explains our data, if for at least one cluster, X[i] >> Y[i]\n",
    "pairs_explained = np.sum(model.predict_preference(X, Y)[:5] == 0, axis=1) # For each sample check if each clusters prefers X[i] (then is True)\n",
    "pairs_explained = pairs_explained > 0 # If at least one cluster prefers X[i], then X[i] >> Y[i] is explained\n",
    "print(\"Percentage of explained preferences for 5 first samples:\", np.sum(pairs_explained) / 5) # Get % or explained pairs"
   ]
  },
  {
   "cell_type": "code",
   "execution_count": 8,
   "metadata": {},
   "outputs": [
    {
     "name": "stdout",
     "output_type": "stream",
     "text": [
      "Percentage of explained preferences for all samples: 0.5845\n",
      "Percentage of explained preferences for all samples: 0.5845\n"
     ]
    }
   ],
   "source": [
    "# Or we call directly the right metric:\n",
    "pairs_explained = metrics.PairsExplained()\n",
    "print(\"Percentage of explained preferences for all samples:\", pairs_explained.from_model(model, X, Y))\n",
    "# Or other possibility:\n",
    "print(\"Percentage of explained preferences for all samples:\", pairs_explained(model.predict_utility(X), model.predict_utility(Y)))"
   ]
  },
  {
   "cell_type": "code",
   "execution_count": 9,
   "metadata": {},
   "outputs": [
    {
     "name": "stdout",
     "output_type": "stream",
     "text": [
      "[0 0 0 1 0]\n"
     ]
    }
   ],
   "source": [
    "# Now, we can also see how our model clusters our data\n",
    "print(model.predict_cluster(X, Y)[:5]) # Returns for each sample which cluster is the most likely to have generated the preference.\n",
    "# The most likely cluster is the one with the highest utility difference U(X[i])-U(Y[i]) for the sample."
   ]
  },
  {
   "cell_type": "code",
   "execution_count": 10,
   "metadata": {},
   "outputs": [
    {
     "name": "stdout",
     "output_type": "stream",
     "text": [
      "[0 0 0 1 0]\n"
     ]
    }
   ],
   "source": [
    "# Ground truth are also provided:\n",
    "Z = data_loader.get_ground_truth_labels()\n",
    "# We can see how it compares to our model's predictions:\n",
    "print(Z[:5])"
   ]
  },
  {
   "cell_type": "code",
   "execution_count": 11,
   "metadata": {},
   "outputs": [
    {
     "name": "stdout",
     "output_type": "stream",
     "text": [
      "Cluster intersection for 5 first samples: 1.0\n",
      "Cluster intersection for all samples: 0.6577508754377188\n",
      "Cluster intersection for all samples: 0.6577508754377188\n"
     ]
    }
   ],
   "source": [
    "# We have a metric to calculate how well the model has regrouped the preferences pairs compared to ground truth:\n",
    "cluster_intersection = metrics.ClusterIntersection()\n",
    "\n",
    "print(\"Cluster intersection for 5 first samples:\", cluster_intersection(model.predict_cluster(X, Y)[:5], Z[:5]))\n",
    "\n",
    "# Then for all data:\n",
    "print(\"Cluster intersection for all samples:\", cluster_intersection(model.predict_cluster(X, Y), Z))\n",
    "print(\"Cluster intersection for all samples:\", cluster_intersection.from_model(model, X, Y, Z))"
   ]
  },
  {
   "cell_type": "code",
   "execution_count": 12,
   "metadata": {},
   "outputs": [
    {
     "data": {
      "image/png": "[encoded data removed]",
      "text/plain": [
       "<Figure size 640x480 with 1 Axes>"
      ]
     },
     "metadata": {},
     "output_type": "display_data"
    }
   ],
   "source": [
    "# Here is a proposition of a useful plot to see how the model clusters the data:\n",
    "# We look at how each cluster evaluates U(x) - U(y) and color with ground truth clustering\n",
    "# Note that x >>_1 y means that x is preferred to y for cluster 1\n",
    "from matplotlib.patches import Rectangle\n",
    "from matplotlib.lines import Line2D\n",
    "\n",
    "plt.figure()\n",
    "plt.xlabel(\"U1(x) - U1(y)\")\n",
    "plt.ylabel(\"U2(x) - U2(y)\")\n",
    "\n",
    "plt.gca().add_patch(Rectangle((0,-1.),1., 2.,\n",
    "                    edgecolor='red',\n",
    "                    facecolor='none',\n",
    "                    lw=0, \n",
    "                    hatch='/'))\n",
    "plt.gca().add_patch(Rectangle((-1.,0), 2., 1.,\n",
    "                    edgecolor='green',\n",
    "                    facecolor='none',\n",
    "                    lw=0, \n",
    "                    hatch='\\\\'))\n",
    "plt.gca().add_patch(Rectangle((-1.,-1.),1., 1.,\n",
    "                    edgecolor='blue',\n",
    "                    facecolor='none',\n",
    "                    hatch='/',\n",
    "                    lw=0))\n",
    "plt.scatter(model.predict_utility(X)[:, 0]-model.predict_utility(Y)[:, 0], \n",
    "            model.predict_utility(X)[:, 1]-model.predict_utility(Y)[:, 1], c=Z)\n",
    "\n",
    "custom_lines = [Line2D([0], [0], color=\"red\", lw=4),\n",
    "                Line2D([0], [0], color=\"green\", lw=4),\n",
    "                Line2D([0], [0], color=\"b\", lw=4)]\n",
    "\n",
    "plt.legend(custom_lines, ['x >>_1 y', \"x >>_2 y \", 'No preference of x over y'])\n",
    "plt.show()"
   ]
  },
  {
   "cell_type": "markdown",
   "metadata": {},
   "source": [
    "Our random model cannot explain a large part of our preference data. Your first assigment will be to write a Mixed-Interger Programming algorithm that will be able to do so."
   ]
  },
  {
   "cell_type": "code",
   "execution_count": 13,
   "metadata": {},
   "outputs": [
    {
     "ename": "TypeError",
     "evalue": "TwoClustersMIP.__init__() missing 1 required positional argument: 'n_clusters'",
     "output_type": "error",
     "traceback": [
      "\u001b[1;31m---------------------------------------------------------------------------\u001b[0m",
      "\u001b[1;31mTypeError\u001b[0m                                 Traceback (most recent call last)",
      "Cell \u001b[1;32mIn[13], line 5\u001b[0m\n\u001b[0;32m      2\u001b[0m \u001b[38;5;28;01mfrom\u001b[39;00m \u001b[38;5;21;01mmodels\u001b[39;00m \u001b[38;5;28;01mimport\u001b[39;00m TwoClustersMIP\n\u001b[0;32m      4\u001b[0m parameters \u001b[38;5;241m=\u001b[39m {\u001b[38;5;124m\"\u001b[39m\u001b[38;5;124mn_pieces\u001b[39m\u001b[38;5;124m\"\u001b[39m: \u001b[38;5;241m5\u001b[39m,} \u001b[38;5;66;03m# Can be completed\u001b[39;00m\n\u001b[1;32m----> 5\u001b[0m model \u001b[38;5;241m=\u001b[39m \u001b[43mTwoClustersMIP\u001b[49m\u001b[43m(\u001b[49m\u001b[38;5;241;43m*\u001b[39;49m\u001b[38;5;241;43m*\u001b[39;49m\u001b[43mparameters\u001b[49m\u001b[43m)\u001b[49m\n\u001b[0;32m      6\u001b[0m model\u001b[38;5;241m.\u001b[39mfit(X, Y)\n\u001b[0;32m      8\u001b[0m \u001b[38;5;66;03m# Uncomment once your model is working\u001b[39;00m\n\u001b[0;32m      9\u001b[0m \u001b[38;5;66;03m# print(\"Percentage of explained preferences on train data:\", pairs_explained.from_model(model, X, Y)) # You should get 1.0 with the right MIP\u001b[39;00m\n\u001b[0;32m     10\u001b[0m \u001b[38;5;66;03m# print(\"Percentage of preferences well regrouped into clusters:\", cluster_intersection.from_model(model, X, Y, Z))\u001b[39;00m\n",
      "\u001b[1;31mTypeError\u001b[0m: TwoClustersMIP.__init__() missing 1 required positional argument: 'n_clusters'"
     ]
    }
   ],
   "source": [
    "# This cell should work when you have completed the TwoClustersMIP model\n",
    "from models import TwoClustersMIP\n",
    "\n",
    "parameters = {\"n_pieces\": 5,} # Can be completed\n",
    "model = TwoClustersMIP(**parameters)\n",
    "model.fit(X, Y)\n",
    "\n",
    "# Uncomment once your model is working\n",
    "# print(\"Percentage of explained preferences on train data:\", pairs_explained.from_model(model, X, Y)) # You should get 1.0 with the right MIP\n",
    "# print(\"Percentage of preferences well regrouped into clusters:\", cluster_intersection.from_model(model, X, Y, Z))"
   ]
  },
  {
   "cell_type": "code",
   "execution_count": 14,
   "metadata": {},
   "outputs": [
    {
     "data": {
      "image/png": "[encoded data removed]",
      "text/plain": [
       "<IPython.core.display.Image object>"
      ]
     },
     "execution_count": 14,
     "metadata": {},
     "output_type": "execute_result"
    }
   ],
   "source": [
    "# As an example here are the results obtained with:\n",
    "\"\"\" # Uncomment the code to check your results\n",
    "plt.figure()\n",
    "plt.scatter(model.predict_utility(X)[:, 0]-model.predict_utility(Y)[:, 0], \n",
    "            model.predict_utility(X)[:, 1]-model.predict_utility(Y)[:, 1], c=Z)\n",
    "plt.xlabel(\"U1(x) - U1(y)\")\n",
    "plt.ylabel(\"U2(x) - U2(y)\")\n",
    "plt.show()\n",
    "\"\"\"\n",
    "# Here is how it should look like\n",
    "from IPython.display import Image\n",
    "Image(\"../images/MIP_results_example.png\")"
   ]
  },
  {
   "cell_type": "markdown",
   "metadata": {},
   "source": [
    "Your second assignement will be to find another model that will work well with larger data instances."
   ]
  },
  {
   "cell_type": "code",
   "execution_count": null,
   "metadata": {},
   "outputs": [],
   "source": []
  },
  {
   "cell_type": "code",
   "execution_count": null,
   "metadata": {},
   "outputs": [],
   "source": []
  }
 ],
 "metadata": {
  "kernelspec": {
   "display_name": "start_env",
   "language": "python",
   "name": "python3"
  },
  "language_info": {
   "codemirror_mode": {
    "name": "ipython",
    "version": 3
   },
   "file_extension": ".py",
   "mimetype": "text/x-python",
   "name": "python",
   "nbconvert_exporter": "python",
   "pygments_lexer": "ipython3",
   "version": "3.11.7"
  }
 },
 "nbformat": 4,
 "nbformat_minor": 2
}
