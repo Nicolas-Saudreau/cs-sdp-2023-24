{
 "cells": [
  {
   "cell_type": "code",
   "execution_count": 56,
   "metadata": {},
   "outputs": [],
   "source": [
    "import os\n",
    "import sys\n",
    "import pandas as pd \n",
    "\n",
    "sys.path.append(\"../python\")\n",
    "\n",
    "import matplotlib.pyplot as plt\n",
    "import numpy as np\n",
    "from gurobipy import *\n",
    "import math"
   ]
  },
  {
   "cell_type": "code",
   "execution_count": 94,
   "metadata": {},
   "outputs": [
    {
     "ename": "ValueError",
     "evalue": "Cannot load file containing pickled data when allow_pickle=False",
     "output_type": "error",
     "traceback": [
      "\u001b[0;31m---------------------------------------------------------------------------\u001b[0m",
      "\u001b[0;31mValueError\u001b[0m                                Traceback (most recent call last)",
      "\u001b[0;32m<ipython-input-94-758fd3e05923>\u001b[0m in \u001b[0;36m<module>\u001b[0;34m\u001b[0m\n\u001b[0;32m----> 1\u001b[0;31m \u001b[0mX\u001b[0m \u001b[0;34m=\u001b[0m \u001b[0mnp\u001b[0m\u001b[0;34m.\u001b[0m\u001b[0mload\u001b[0m\u001b[0;34m(\u001b[0m\u001b[0;34m\"../data/dataset_4/X.npy\"\u001b[0m\u001b[0;34m)\u001b[0m \u001b[0;31m# Specify path to the dataset you want to load\u001b[0m\u001b[0;34m\u001b[0m\u001b[0;34m\u001b[0m\u001b[0m\n\u001b[0m\u001b[1;32m      2\u001b[0m \u001b[0mY\u001b[0m \u001b[0;34m=\u001b[0m \u001b[0mnp\u001b[0m\u001b[0;34m.\u001b[0m\u001b[0mload\u001b[0m\u001b[0;34m(\u001b[0m\u001b[0;34m\"../data/dataset_4/Y.npy\"\u001b[0m\u001b[0;34m)\u001b[0m\u001b[0;34m\u001b[0m\u001b[0;34m\u001b[0m\u001b[0m\n\u001b[1;32m      3\u001b[0m \u001b[0mZ\u001b[0m \u001b[0;34m=\u001b[0m \u001b[0mpd\u001b[0m\u001b[0;34m.\u001b[0m\u001b[0mread_csv\u001b[0m\u001b[0;34m(\u001b[0m\u001b[0;34m'../heuristic/data/Z.csv'\u001b[0m\u001b[0;34m)\u001b[0m\u001b[0;34m\u001b[0m\u001b[0;34m\u001b[0m\u001b[0m\n\u001b[1;32m      4\u001b[0m \u001b[0;34m\u001b[0m\u001b[0m\n\u001b[1;32m      5\u001b[0m \u001b[0mX\u001b[0m \u001b[0;34m=\u001b[0m \u001b[0mX\u001b[0m\u001b[0;34m.\u001b[0m\u001b[0mdrop\u001b[0m\u001b[0;34m(\u001b[0m\u001b[0mcolumns\u001b[0m \u001b[0;34m=\u001b[0m \u001b[0mX\u001b[0m\u001b[0;34m.\u001b[0m\u001b[0mcolumns\u001b[0m\u001b[0;34m[\u001b[0m\u001b[0;36m0\u001b[0m\u001b[0;34m]\u001b[0m\u001b[0;34m)\u001b[0m\u001b[0;34m\u001b[0m\u001b[0;34m\u001b[0m\u001b[0m\n",
      "\u001b[0;32m~/opt/anaconda3/lib/python3.8/site-packages/numpy/lib/npyio.py\u001b[0m in \u001b[0;36mload\u001b[0;34m(file, mmap_mode, allow_pickle, fix_imports, encoding)\u001b[0m\n\u001b[1;32m    455\u001b[0m             \u001b[0;31m# Try a pickle\u001b[0m\u001b[0;34m\u001b[0m\u001b[0;34m\u001b[0m\u001b[0;34m\u001b[0m\u001b[0m\n\u001b[1;32m    456\u001b[0m             \u001b[0;32mif\u001b[0m \u001b[0;32mnot\u001b[0m \u001b[0mallow_pickle\u001b[0m\u001b[0;34m:\u001b[0m\u001b[0;34m\u001b[0m\u001b[0;34m\u001b[0m\u001b[0m\n\u001b[0;32m--> 457\u001b[0;31m                 raise ValueError(\"Cannot load file containing pickled data \"\n\u001b[0m\u001b[1;32m    458\u001b[0m                                  \"when allow_pickle=False\")\n\u001b[1;32m    459\u001b[0m             \u001b[0;32mtry\u001b[0m\u001b[0;34m:\u001b[0m\u001b[0;34m\u001b[0m\u001b[0;34m\u001b[0m\u001b[0m\n",
      "\u001b[0;31mValueError\u001b[0m: Cannot load file containing pickled data when allow_pickle=False"
     ]
    }
   ],
   "source": [
    "X = pd.read_csv('../heuristic/data/X.csv')\n",
    "Y = pd.read_csv('../heuristic/data/Y.csv')\n",
    "Z = pd.read_csv('../heuristic/data/Z.csv')\n",
    "\n",
    "X = X.drop(columns = X.columns[0])\n",
    "Y = Y.drop(columns = Y.columns[0])"
   ]
  },
  {
   "cell_type": "code",
   "execution_count": 89,
   "metadata": {},
   "outputs": [],
   "source": [
    "cluster_X_0_test = X.iloc[:50,0:2].to_numpy()\n",
    "cluster_Y_0_test = Y.iloc[:50,0:2].to_numpy()"
   ]
  },
  {
   "cell_type": "code",
   "execution_count": 97,
   "metadata": {},
   "outputs": [],
   "source": [
    "sous_tableau_1, sous_tableau_2, sous_tableau_3 = np.split(X.to_numpy(), 3)\n"
   ]
  },
  {
   "cell_type": "code",
   "execution_count": 101,
   "metadata": {},
   "outputs": [
    {
     "data": {
      "text/plain": [
       "13334"
      ]
     },
     "execution_count": 101,
     "metadata": {},
     "output_type": "execute_result"
    }
   ],
   "source": [
    "len(sous_tableau_3)"
   ]
  },
  {
   "cell_type": "code",
   "execution_count": 58,
   "metadata": {},
   "outputs": [],
   "source": [
    "cluster_X_0 = X.iloc[:1334].to_numpy()\n",
    "cluster_X_1 = X.iloc[1334:2668].to_numpy()\n",
    "cluster_X_2 = X.iloc[2668:4003].to_numpy()\n",
    "\n",
    "cluster_Y_0 = Y.iloc[:1334].to_numpy()\n",
    "cluster_Y_1 = Y.iloc[1334:2668].to_numpy()\n",
    "cluster_Y_2 = Y.iloc[2668:4003].to_numpy()"
   ]
  },
  {
   "cell_type": "code",
   "execution_count": 95,
   "metadata": {},
   "outputs": [],
   "source": [
    "def opti_cluster(cluster_X, cluster_Y): \n",
    "        # Instanciation du modèle\n",
    "    m = Model('cluster')\n",
    "\n",
    "    #Nombre de features\n",
    "    N_CRITERIA = len(cluster_X[0])\n",
    "    #Nombre de segment/breakpoints dans toutes les fonctions de score, possible de l'adapter pour chaque feature \n",
    "    L = 5\n",
    "    #Nombre d'occurence dans le dataset/produits traités \n",
    "    N_COMPARAISON = len(cluster_X)\n",
    "    #Majorant contrainte \n",
    "    M=4\n",
    "    #definition de epsilon\n",
    "    epsilon = 0.001\n",
    "\n",
    "    min_int_X = cluster_X.min(axis=0) \n",
    "    min_int_Y = cluster_Y.min(axis=0)\n",
    "    mins = np.min(np.vstack((min_int_X, min_int_Y)), axis = 0)\n",
    "\n",
    "    max_int_X = cluster_X.max(axis=0)\n",
    "    max_int_Y = cluster_Y.max(axis=0)\n",
    "    maxs = np.max(np.vstack((max_int_X, max_int_Y)), axis = 0)\n",
    "\n",
    "    #Variables\n",
    "    criteria = [[(m.addVar(name=f\"u_{j}{l}\")) for l in range(L+1)]for j in range(N_CRITERIA)]\n",
    "    sigma_Xplus = [(m.addVar(name=f\"x_sigma+{i}\")) for i in range(N_COMPARAISON)]\n",
    "    sigma_Xminus = [(m.addVar(name=f\"x_sigma-{i}\")) for i in range(N_COMPARAISON)]\n",
    "    sigma_Yplus = [(m.addVar(name=f\"y_sigma+{i}\")) for i in range(N_COMPARAISON)]\n",
    "    sigma_Yminus = [(m.addVar(name=f\"y_sigma-{i}\")) for i in range(N_COMPARAISON)]\n",
    "\n",
    "   \n",
    "    m.update()\n",
    "\n",
    "\n",
    "    def segment(i, j, X):\n",
    "        x = X[i][j]\n",
    "        return math.floor(L * (x - mins[j]) / (maxs[j] - mins[j]))\n",
    "\n",
    "    def x_seg(j, seg):\n",
    "        return mins[j] + seg * (maxs[j] - mins[j]) / L\n",
    "\n",
    "    def u(i,j,X,eval : bool = False):\n",
    "        get_val = (lambda v: v.X) if eval else (lambda v: v)\n",
    "        x = X[i][j]\n",
    "        \n",
    "        if x == maxs[j]:\n",
    "            return get_val(criteria[j][-1]) \n",
    "        else:\n",
    "            segm = segment(i, j, X)\n",
    "            x_segm = x_seg(j, segm)\n",
    "            x_segm_1 = x_seg(j, segm +1)    \n",
    "            slope = (x - x_segm)/(x_segm_1 - x_segm)\n",
    "            width = criteria[j][segm+1] - criteria[j][segm]\n",
    "            S =  slope*width + criteria[j][segm]\n",
    "        return S\n",
    "\n",
    "\n",
    "    #définissons la somme des fonctions de score pour un produit (de rang i)\n",
    "    def s(i, X, eval : bool = False):\n",
    "        if not eval : \n",
    "            return quicksum(u(i,j,X,False) for j in range(N_CRITERIA))\n",
    "        else : \n",
    "            return sum(u(i,j,X,False) for j in range(N_CRITERIA))\n",
    "\n",
    "    def s_total(i, X): \n",
    "        return s(i, X, False) + sigma_Xminus[i] - sigma_Xminus[i] \n",
    "\n",
    "    # Ajout des contraintes\n",
    "                \n",
    "    # Constraint for sigma_Xminus\n",
    "    for i in range(N_COMPARAISON):\n",
    "        m.addConstr(sigma_Xminus[i] >= 0)\n",
    "\n",
    "    # Constraint for sigma_Xplus\n",
    "    for i in range(N_COMPARAISON):\n",
    "        m.addConstr(sigma_Xplus[i] >= 0)\n",
    "                        \n",
    "    # Constraint for sigma_Yminus\n",
    "    for i in range(N_COMPARAISON):\n",
    "        m.addConstr(sigma_Yminus[i] >= 0)\n",
    "\n",
    "    # Constraint for sigma_Yplus\n",
    "    for i in range(N_COMPARAISON):\n",
    "        m.addConstr(sigma_Yplus[i] >= 0)\n",
    "\n",
    "    # contrainte 3\n",
    "    for j in range(N_CRITERIA):\n",
    "        for l in range(L-1):\n",
    "            m.addConstr(criteria[j][l+1] - criteria[j][l] >= epsilon)\n",
    "\n",
    "    # contrainte 4\n",
    "    m.addConstr(sum(criteria[j][L] for j in range(N_CRITERIA)) ==1)\n",
    "\n",
    "    # contrainte 5\n",
    "    for j in range(N_CRITERIA): \n",
    "        m.addConstr(criteria[j][0] == 0)    \n",
    "\n",
    "\n",
    "    for i in range(N_COMPARAISON):\n",
    "        m.addConstr(s_total(i, cluster_X) - s_total(i, cluster_Y) >= epsilon)\n",
    "\n",
    "    m.update()\n",
    "\n",
    "    # Flatten the lists of lists into a single list\n",
    "    # sum_to_minize= 0 \n",
    "    # for i in range(N_COMPARAISON): \n",
    "    #     sum_to_minize += sum(sigma_Xplus[i] + sigma_Xminus[i] + sigma_Yminus[i] + sigma_Yplus[i])\n",
    "    \n",
    "\n",
    "    sum_to_minize = sum(sigma for sigma in sigma_Xplus) + sum(sigma for sigma in sigma_Xminus) + sum(sigma for sigma in sigma_Yplus) + sum(sigma for sigma in sigma_Yminus)\n",
    "    fonction_objectif = sum_to_minize\n",
    "    #fonction_objectif = sum(sigma_Xplus[i] + sigma_Xminus[i] + sigma_Yminus[i] + sigma_Yplus[i]  for i in range(N_COMPARAISON))\n",
    "\n",
    "    # Objective function\n",
    "    m.setObjective(fonction_objectif, GRB.MINIMIZE)\n",
    "\n",
    "\n",
    "    # Fonction Objectif\n",
    "    #m.setObjective(sum(sigma_Xplus) + sum(sigma_Xminus) + sum(sigma_Yminus) + sum(sigma_Yplus), GRB.MINIMIZE)         \n",
    "    # Paramétrage (mode mute)\n",
    "    # m.Params.Presolve = 0\n",
    "    # Résolution du PL\n",
    "    m.optimize()\n",
    "    #print(\"La solution optimale est (v0, v1) = {} avec pour objectif z = {}\".format((v0.x, v1.x), m.objVal))\n",
    "    for k in range(K):\n",
    "        for j in range(N_CRITERIA):\n",
    "            for l in range(L):\n",
    "                print(criteria[j][l])\n",
    "\n"
   ]
  },
  {
   "cell_type": "code",
   "execution_count": 60,
   "metadata": {},
   "outputs": [],
   "source": [
    "cluster = cluster_0\n",
    "mins = cluster.min(axis=0)\n",
    "maxs = cluster.max(axis=0)"
   ]
  },
  {
   "cell_type": "code",
   "execution_count": 61,
   "metadata": {},
   "outputs": [
    {
     "data": {
      "text/plain": [
       "array([0.13155 , 0.102793, 0.266773, 0.273273, 0.482818, 0.598529,\n",
       "       0.443253, 0.079392, 0.696425, 0.205184])"
      ]
     },
     "execution_count": 61,
     "metadata": {},
     "output_type": "execute_result"
    }
   ],
   "source": [
    "cluster_X_0[0]\n",
    "s(cluster_X_0[0])\n"
   ]
  },
  {
   "cell_type": "code",
   "execution_count": 103,
   "metadata": {},
   "outputs": [
    {
     "name": "stdout",
     "output_type": "stream",
     "text": [
      "Gurobi Optimizer version 11.0.0 build v11.0.0rc2 (mac64[x86] - Darwin 23.1.0 23B74)\n",
      "\n",
      "CPU model: Intel(R) Core(TM) i5-1038NG7 CPU @ 2.00GHz\n",
      "Thread count: 4 physical cores, 8 logical processors, using up to 8 threads\n",
      "\n",
      "Optimize a model with 261 rows, 212 columns and 537 nonzeros\n",
      "Model fingerprint: 0x5de0efb5\n",
      "Coefficient statistics:\n",
      "  Matrix range     [4e-03, 1e+00]\n",
      "  Objective range  [1e+00, 1e+00]\n",
      "  Bounds range     [0e+00, 0e+00]\n",
      "  RHS range        [1e-03, 1e+00]\n",
      "Presolve removed 205 rows and 203 columns\n",
      "Presolve time: 0.12s\n",
      "Presolved: 56 rows, 9 columns, 289 nonzeros\n",
      "\n",
      "Iteration    Objective       Primal Inf.    Dual Inf.      Time\n",
      "       0    0.0000000e+00   6.061832e+00   0.000000e+00      0s\n",
      "\n",
      "Solved in 18 iterations and 0.13 seconds (0.00 work units)\n",
      "Infeasible model\n",
      "<gurobi.Var u_00>\n",
      "<gurobi.Var u_01>\n",
      "<gurobi.Var u_02>\n",
      "<gurobi.Var u_03>\n",
      "<gurobi.Var u_04>\n",
      "<gurobi.Var u_10>\n",
      "<gurobi.Var u_11>\n",
      "<gurobi.Var u_12>\n",
      "<gurobi.Var u_13>\n",
      "<gurobi.Var u_14>\n",
      "<gurobi.Var u_00>\n",
      "<gurobi.Var u_01>\n",
      "<gurobi.Var u_02>\n",
      "<gurobi.Var u_03>\n",
      "<gurobi.Var u_04>\n",
      "<gurobi.Var u_10>\n",
      "<gurobi.Var u_11>\n",
      "<gurobi.Var u_12>\n",
      "<gurobi.Var u_13>\n",
      "<gurobi.Var u_14>\n",
      "<gurobi.Var u_00>\n",
      "<gurobi.Var u_01>\n",
      "<gurobi.Var u_02>\n",
      "<gurobi.Var u_03>\n",
      "<gurobi.Var u_04>\n",
      "<gurobi.Var u_10>\n",
      "<gurobi.Var u_11>\n",
      "<gurobi.Var u_12>\n",
      "<gurobi.Var u_13>\n",
      "<gurobi.Var u_14>\n"
     ]
    }
   ],
   "source": [
    "opti_cluster(cluster_X_0_test,cluster_Y_0_test)"
   ]
  },
  {
   "cell_type": "code",
   "execution_count": 80,
   "metadata": {},
   "outputs": [
    {
     "data": {
      "text/plain": [
       "16"
      ]
     },
     "execution_count": 80,
     "metadata": {},
     "output_type": "execute_result"
    }
   ],
   "source": [
    "L = [1,1,1,1]\n",
    "\n",
    "sum(L[i] + L[i] +L[i] +L[i]  for i in range(len(L)))"
   ]
  }
 ],
 "metadata": {
  "kernelspec": {
   "display_name": "Python 3",
   "language": "python",
   "name": "python3"
  },
  "language_info": {
   "codemirror_mode": {
    "name": "ipython",
    "version": 3
   },
   "file_extension": ".py",
   "mimetype": "text/x-python",
   "name": "python",
   "nbconvert_exporter": "python",
   "pygments_lexer": "ipython3",
   "version": "3.8.3"
  },
  "orig_nbformat": 4
 },
 "nbformat": 4,
 "nbformat_minor": 2
}
