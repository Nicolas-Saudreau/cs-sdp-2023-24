{
 "cells": [
  {
   "cell_type": "markdown",
   "metadata": {},
   "source": [
    "# <font color=blue><div align=\"center\">TD</div></font>\n",
    "\n",
    "# <font color=blue><div align=\"center\">12-12-2023</div></font>"
   ]
  },
  {
   "cell_type": "code",
   "execution_count": 1,
   "metadata": {},
   "outputs": [],
   "source": [
    "# Modules de base\n",
    "import numpy as np\n",
    "import matplotlib.pyplot as plt\n",
    "%matplotlib inline\n",
    "\n",
    "# Module relatif à Gurobi\n",
    "from gurobipy import *"
   ]
  },
  {
   "cell_type": "markdown",
   "metadata": {},
   "source": [
    "## Exercice 1 : Sélection de projets"
   ]
  },
  {
   "cell_type": "code",
   "execution_count": 2,
   "metadata": {},
   "outputs": [],
   "source": [
    "# Classement des projets de l'an passé\n",
    "past = np.array([ [3, 5, 9],\n",
    "                  [5, 1, 9],\n",
    "                  [4, 8, 4.5],\n",
    "                  [2, 9, 4.5]])"
   ]
  },
  {
   "cell_type": "code",
   "execution_count": 3,
   "metadata": {},
   "outputs": [],
   "source": [
    "# Nouveaux projets :\n",
    "P = np.array([ [5.7, 4.3, 3.3],\n",
    "               [8.6, 9.5, 7.3],\n",
    "               [4.4, 0.7, 9.9],\n",
    "               [1.7, 9.4, 7.2],\n",
    "               [3.5, 5.4, 2.0],\n",
    "               [3.4, 2.4, 0.7],\n",
    "               [8.5, 6.5, 1.6],\n",
    "               [1.7, 1.6, 5.4],\n",
    "               [9.8, 2.8, 5.3],\n",
    "               [8.2, 8.1, 1.1] ])"
   ]
  },
  {
   "cell_type": "markdown",
   "metadata": {},
   "source": [
    "### Question 5"
   ]
  },
  {
   "cell_type": "code",
   "execution_count": 27,
   "metadata": {},
   "outputs": [],
   "source": [
    "\n",
    "\n",
    "# Possibilité d'utiliser une telle fonction pour mettre à jour un modèle Gurobi (model) en introduisant des contraintes liées aux préférences sur les projets passés\n",
    "def addition_constraints(model,past_projects):\n",
    "     \n",
    "     return \n",
    "\n",
    "# Renvoie le rang minimum (meilleur rang possible) d'un projet (project) étant donné l'ensemble des projets disponibles (possible_projects)\n",
    "# (il est possible d'incorporer un argument model si l'on veut éviter de redéfinir tout le modèle Gurobi)\n",
    "def minrank(model,possible_projects,project):\n",
    "    # To complete\n",
    "    return \n",
    "    "
   ]
  },
  {
   "cell_type": "markdown",
   "metadata": {},
   "source": [
    "### Question 7"
   ]
  },
  {
   "cell_type": "code",
   "execution_count": 28,
   "metadata": {},
   "outputs": [],
   "source": [
    "# Renvoie le rang maximum (pire rang) d'un projet (project) étant donné l'ensemble des projets disponibles (possible_projects)\n",
    "# (il est possible d'incorporer un argument model si l'on veut éviter de redéfinir tout le modèle Gurobi)\n",
    "def maxrank(model,possible_projects,project):\n",
    "    # To complete\n",
    "    return \n",
    "    "
   ]
  },
  {
   "cell_type": "markdown",
   "metadata": {},
   "source": [
    "### Question 8"
   ]
  },
  {
   "cell_type": "code",
   "execution_count": 29,
   "metadata": {},
   "outputs": [],
   "source": [
    "# Partitionne les projets de la liste possible_projects en fonction du nombre de projets à financer (nb_projects) en :\n",
    "# - projets retenus\n",
    "# - projets éliminés\n",
    "# - projets incertains\n",
    "# (il est possible d'incorporer un argument model si l'on veut éviter de redéfinir tout le modèle Gurobi)\n",
    "def partition(model,possible_projects,nb_projects):\n",
    "    #To complete\n",
    "    return     \n",
    "\n",
    "\n"
   ]
  },
  {
   "cell_type": "markdown",
   "metadata": {},
   "source": [
    "### Question 9"
   ]
  },
  {
   "cell_type": "code",
   "execution_count": 30,
   "metadata": {},
   "outputs": [],
   "source": [
    "# Contrainte w3 >> w2\n",
    "\n",
    "# Contrainte w2 >> w1\n",
    "\n",
    "\n"
   ]
  },
  {
   "cell_type": "markdown",
   "metadata": {},
   "source": [
    "### Question 11"
   ]
  },
  {
   "cell_type": "code",
   "execution_count": 31,
   "metadata": {},
   "outputs": [],
   "source": [
    "# Projets :\n",
    "projects = np.array([ [10, 50, 70],\n",
    "               [34, 56, 84],\n",
    "               [40, 90, 45],\n",
    "               [30, 10, 70],\n",
    "               [60, 80, 45],\n",
    "               [49, 56, 54],\n",
    "               [84, 12, 45],\n",
    "               [20, 40, 78],\n",
    "               [50, 80, 30],\n",
    "               [12, 98, 12],\n",
    "               [39, 65, 50],\n",
    "               [10, 78, 32] ])"
   ]
  },
  {
   "cell_type": "code",
   "execution_count": 32,
   "metadata": {},
   "outputs": [],
   "source": [
    "# new_projects :  liste de vecteurs correspondant à la liste des projets à évaluer cette année\n",
    "# past_projects : liste ordonnée de vecteurs correspondant aux projets de l’an passé (ordonnée du meilleur au moins bon projet)\n",
    "# nb_projects : nombre de projets qu’il est possible de financer cette année\n",
    "def funding(new_projects,past_projects,nb_projects):\n",
    "    #To complete \n",
    "    return "
   ]
  },
  {
   "cell_type": "markdown",
   "metadata": {},
   "source": [
    "## Exercice 2 : Ranking Universities (UTA)"
   ]
  },
  {
   "cell_type": "markdown",
   "metadata": {},
   "source": [
    "### Question 7 \n",
    "\n",
    "Implement a program which takes as input a set of vectors (list of Universities to compare), a rank order on some of these vectors (a ranking on a subset of Universities) and a number of linear pieces (for the piecewise value functions). The program must compute a piecewise linear value function that best restores this ranking, and compute the value of each University, so as to rank the whole set of Universities. "
   ]
  },
  {
   "cell_type": "code",
   "execution_count": 2,
   "metadata": {},
   "outputs": [],
   "source": [
    "reference_universities = np.array([ [27.5, 30, 8, 83, 55],\n",
    "                                    [32.5, 37.5, 45, 45, 91.5],\n",
    "                                    [25, 32.5, 16, 90, 25],\n",
    "                                    [30, 35, 4, 75, 85],\n",
    "                                    [25, 32.5, 24, 100, 100],\n",
    "                                    [39, 40, 8, 100, 15] ])"
   ]
  },
  {
   "cell_type": "code",
   "execution_count": 3,
   "metadata": {},
   "outputs": [],
   "source": [
    "new_universities = np.array([ [27.5, 30, 8, 83, 55],\n",
    "                                    [32.5, 37.5, 45, 45, 91.5],\n",
    "                                    [25, 32.5, 16, 90, 25],\n",
    "                                    [30, 35, 4, 75, 85],\n",
    "                                    [25, 32.5, 24, 100, 100],\n",
    "                                    [39, 40, 8, 100, 15],\n",
    "                                    [32, 35, 25, 85, 12] ])"
   ]
  },
  {
   "cell_type": "code",
   "execution_count": 4,
   "metadata": {},
   "outputs": [],
   "source": [
    "reference_cars = np.array([ [173, 11.4, 10.01, 10, 7.88, 49500],\n",
    "                            [176, 12.3, 10.48, 11, 7.96, 46700],\n",
    "                            [142, 8.2, 7.3, 5, 5.65, 32100],\n",
    "                            [148, 10.5, 9.61, 7, 6.15, 39150],\n",
    "                            [178, 14.5, 11.05, 13, 8.06, 64700],\n",
    "                            [180, 13.6, 10.4, 13, 8.47, 75700],\n",
    "                            [182, 12.7, 12.26, 11, 7.81, 68593],\n",
    "                            [145, 14.3, 12.95, 11, 8.38, 55000],\n",
    "                            [161, 8.6, 8.42, 7, 5.11, 35200],\n",
    "                            [117, 7.2, 6.75, 3, 5.81, 24800] ])"
   ]
  },
  {
   "cell_type": "code",
   "execution_count": 5,
   "metadata": {},
   "outputs": [],
   "source": [
    "new_cars = np.array([[173, 11.4, 10.01, 10, 7.88, 49500],\n",
    "                    [176, 12.3, 10.48, 11, 7.96, 46700],\n",
    "                    [142, 8.2, 7.3, 5, 5.65, 32100],\n",
    "                    [148, 10.5, 9.61, 7, 6.15, 39150],\n",
    "                    [178, 14.5, 11.05, 13, 8.06, 64700],\n",
    "                    [180, 13.6, 10.4, 13, 8.47, 75700],\n",
    "                    [182, 12.7, 12.26, 11, 7.81, 68593],\n",
    "                    [145, 14.3, 12.95, 11, 8.38, 55000],\n",
    "                    [161, 8.6, 8.42, 7, 5.11, 35200],\n",
    "                    [117, 7.2, 6.75, 3, 5.81, 24800],\n",
    "                    [134, 7.4, 6.9, 3, 5.52, 25200]])"
   ]
  },
  {
   "cell_type": "code",
   "execution_count": 13,
   "metadata": {},
   "outputs": [
    {
     "name": "stdout",
     "output_type": "stream",
     "text": [
      "Gurobi Optimizer version 11.0.0 build v11.0.0rc2 (win64 - Windows 11.0 (22621.2))\n",
      "\n",
      "CPU model: 12th Gen Intel(R) Core(TM) i5-1235U, instruction set [SSE2|AVX|AVX2]\n",
      "Thread count: 10 physical cores, 12 logical processors, using up to 12 threads\n",
      "\n",
      "Optimize a model with 48 rows, 37 columns and 286 nonzeros\n",
      "Model fingerprint: 0xcbf64e44\n",
      "Coefficient statistics:\n",
      "  Matrix range     [5e-02, 2e+01]\n",
      "  Objective range  [1e+00, 1e+00]\n",
      "  Bounds range     [0e+00, 0e+00]\n",
      "  RHS range        [1e-03, 1e+00]\n",
      "Presolve removed 24 rows and 10 columns\n",
      "Presolve time: 0.00s\n",
      "Presolved: 24 rows, 27 columns, 208 nonzeros\n",
      "\n",
      "Iteration    Objective       Primal Inf.    Dual Inf.      Time\n",
      "       0    0.0000000e+00   8.247436e-01   0.000000e+00      0s\n",
      "      16    0.0000000e+00   0.000000e+00   0.000000e+00      0s\n",
      "\n",
      "Solved in 16 iterations and 0.01 seconds (0.00 work units)\n",
      "Optimal objective  0.000000000e+00\n",
      "[[<gurobi.Var u_0_0 (value 0.0)>, <gurobi.Var u_0_1 (value 0.001)>, <gurobi.Var u_0_2 (value 0.002)>, <gurobi.Var u_0_3 (value 0.003)>, <gurobi.Var u_0_4 (value 0.16313087643327062)>], [<gurobi.Var u_1_0 (value 0.0)>, <gurobi.Var u_1_1 (value 0.001)>, <gurobi.Var u_1_2 (value 0.002)>, <gurobi.Var u_1_3 (value 0.003)>, <gurobi.Var u_1_4 (value 0.0)>], [<gurobi.Var u_2_0 (value 0.0)>, <gurobi.Var u_2_1 (value 0.001)>, <gurobi.Var u_2_2 (value 0.017136625225175974)>, <gurobi.Var u_2_3 (value 0.018136625225175975)>, <gurobi.Var u_2_4 (value 0.8368691235667294)>], [<gurobi.Var u_3_0 (value 0.0)>, <gurobi.Var u_3_1 (value 0.001)>, <gurobi.Var u_3_2 (value 0.002)>, <gurobi.Var u_3_3 (value 0.061563423379362894)>, <gurobi.Var u_3_4 (value 0.0)>], [<gurobi.Var u_4_0 (value 0.0)>, <gurobi.Var u_4_1 (value 0.009353911517517499)>, <gurobi.Var u_4_2 (value 0.010353911517517498)>, <gurobi.Var u_4_3 (value 0.011353911517517499)>, <gurobi.Var u_4_4 (value 0.0)>]]\n"
     ]
    }
   ],
   "source": [
    "from gurobipy import *\n",
    "import math\n",
    "# Instanciation du modèle\n",
    "m = Model(\"Simple PL modelling\")\n",
    "\n",
    "PRECISION = 0.001\n",
    "#Nombre de features\n",
    "N_CRITERIA = len(reference_universities[0])\n",
    "#Nombre de segment/breakpoints dans toutes les fonctions de score, possible de l'adapter pour chaque feature \n",
    "L = 4\n",
    "#Nombre d'occurence dans le dataset/produits traités \n",
    "N_REF_UNIV = len(reference_universities)\n",
    "#à définir clairement : \n",
    "criteria = [[m.addVar(name=f\"u_{i}_{l}\") for l in range(L+1)] for i in range(N_CRITERIA)]\n",
    "sigma_plus = [m.addVar(name=f\"sigma+_{i}\") for i in range(N_REF_UNIV)]\n",
    "sigma_minus = [m.addVar(name=f\"sigma-_{i}\") for i in range(N_REF_UNIV)]\n",
    "#hyperparamètre pour le modèle\n",
    "epsilon = PRECISION\n",
    "# maj du modèle\n",
    "m.update()\n",
    "\n",
    "#récupère les minimum et maximum de chaque feature \n",
    "mins = reference_universities.min(axis=0)\n",
    "maxs = reference_universities.max(axis=0)\n",
    "\n",
    "\n",
    "def li(i, X):\n",
    "    x = X[i]\n",
    "    #floor permet de faire l'arrondi \n",
    "    #donne un chiffre entre 0 et L (ici 4) qui donne l'appartenance à l'un des 5 segment possible \n",
    "    #X correspond à une occurence d'un produit traité \n",
    "    #i correspond à l'indice de feature \n",
    "    #correspond au commentaire de la question 2\n",
    "    return math.floor(L * (x - mins[i]) / (maxs[i] - mins[i]))\n",
    "\n",
    "#cette fonction précédente permettra a priori de trouver le l de la fonction suivante\n",
    "\n",
    "#l correspond au tronçon sur lequel est la valeur \n",
    "#retourne l'abscisse de gauche ? du tronçon l \n",
    "#appeler xik dans question 3\n",
    "def xl(i, l):\n",
    "    return mins[i] + l * (maxs[i] - mins[i]) / L\n",
    "\n",
    "#calcule la valeur si(xij)\n",
    "#cad le score partiel pour un feature donné \n",
    "# ?? on obtient le score à partir d'une forme ressemblant au développement limité autour de la valeur de la feature sur le tronçon\n",
    "\n",
    "def u_i(i,  X, evalueate: bool=False):\n",
    "    get_val = (lambda v: v.X) if evalueate else (lambda v: v)\n",
    "    x = X[i]\n",
    "    l = li(i,X)\n",
    "    \n",
    "    if x == maxs[i]:\n",
    "        return get_val(criteria[i][-1]) \n",
    "\n",
    "    x_l = xl(i, l)\n",
    "    width = x - x_l\n",
    "\n",
    "    slope = get_val(criteria[i][l + 1]) - get_val(criteria[i][l]) * L / (maxs[i] - mins[i])\n",
    "    return get_val(criteria[i][l]) + slope * width\n",
    "\n",
    "#fait la somme pour calculer le score de chaque produit étudié \n",
    "#quicksum : fonction propre à gurobi pour faire de l'optimisation sous contrainte de somme \n",
    "def s(X, evalueate: bool=False):\n",
    "    if not evalueate:\n",
    "        return quicksum(u_i(i, X, evalueate=False) for i in range(N_CRITERIA))\n",
    "    else:\n",
    "        return sum(u_i(i, X, evalueate=True) for i in range(N_CRITERIA))\n",
    "\n",
    "\n",
    "# Ajout des contraintes\n",
    "\n",
    "#Documentation Gurobi propre\n",
    "\n",
    "# contraintes de préférence des universités\n",
    "for i1, univ1 in enumerate(reference_universities):\n",
    "    if i1 != len(reference_universities) - 1:\n",
    "        for i2, univ2 in enumerate(reference_universities[i1+1:]):\n",
    "            m.addConstr(s(univ1) - sigma_plus[i1] + sigma_minus[i1] >=  s(univ2) - sigma_plus[i2] + sigma_minus[i2] + epsilon)\n",
    "\n",
    "\n",
    "for sig in sigma_minus + sigma_plus:\n",
    "    m.addConstr(sig >= 0)\n",
    "\n",
    "# contrainte 3\n",
    "for l in range(L-1):\n",
    "    for i in range(N_CRITERIA):\n",
    "        m.addConstr(criteria[i][l+1] - criteria[i][l] >= epsilon)\n",
    "\n",
    "# contrainte 4\n",
    "for i in range(N_CRITERIA):\n",
    "    m.addConstr(u_i(i, mins) == 0)\n",
    "\n",
    "# contrainte 5\n",
    "m.addConstr(quicksum(u_i(i, maxs) for i in range(N_CRITERIA)) == 1)\n",
    "\n",
    "\n",
    "# Fonction Objectif\n",
    "m.setObjective(sum(sigma_plus) + sum(sigma_minus), GRB.MINIMIZE)         \n",
    "# Paramétrage (mode mute)\n",
    "# Résolution du PL\n",
    "m.optimize()\n",
    "#print(\"La solution optimale est (v0, v1) = {} avec pour objectif z = {}\".format((v0.x, v1.x), m.objVal))\n",
    "print(criteria)"
   ]
  },
  {
   "cell_type": "code",
   "execution_count": 7,
   "metadata": {},
   "outputs": [],
   "source": [
    "def rank(list_alternatives,partial_ranking,L):\n",
    "    #To complete\n",
    "    return \n",
    "    "
   ]
  },
  {
   "cell_type": "code",
   "execution_count": 8,
   "metadata": {},
   "outputs": [
    {
     "name": "stdout",
     "output_type": "stream",
     "text": [
      "u_0_0 0.0\n",
      "u_0_1 0.001\n",
      "u_0_2 0.002\n",
      "u_0_3 0.003\n",
      "u_0_4 0.16313087643327062\n",
      "u_1_0 0.0\n",
      "u_1_1 0.001\n",
      "u_1_2 0.002\n",
      "u_1_3 0.003\n",
      "u_1_4 0.0\n",
      "u_2_0 0.0\n",
      "u_2_1 0.001\n",
      "u_2_2 0.017136625225175974\n",
      "u_2_3 0.018136625225175975\n",
      "u_2_4 0.8368691235667294\n",
      "u_3_0 0.0\n",
      "u_3_1 0.001\n",
      "u_3_2 0.002\n",
      "u_3_3 0.061563423379362894\n",
      "u_3_4 0.0\n",
      "u_4_0 0.0\n",
      "u_4_1 0.009353911517517499\n",
      "u_4_2 0.010353911517517498\n",
      "u_4_3 0.011353911517517499\n",
      "u_4_4 0.0\n"
     ]
    }
   ],
   "source": [
    "for i, crits in enumerate(criteria):\n",
    "    for j, crit in enumerate(crits):\n",
    "        print(crit.varName, crit.X)"
   ]
  },
  {
   "cell_type": "code",
   "execution_count": 11,
   "metadata": {},
   "outputs": [],
   "source": [
    "scores = np.array(\n",
    "            list(\n",
    "                map(\n",
    "                    lambda x: s(x, evalueate=True),\n",
    "                    new_universities,\n",
    "                )\n",
    "            )\n",
    "        )"
   ]
  },
  {
   "cell_type": "code",
   "execution_count": 12,
   "metadata": {},
   "outputs": [
    {
     "name": "stdout",
     "output_type": "stream",
     "text": [
      "[0.84862497 0.84762497 0.17013088 0.16913088 0.16813088 0.16713088\n",
      " 0.79909362]\n"
     ]
    }
   ],
   "source": [
    "print(scores)"
   ]
  },
  {
   "cell_type": "code",
   "execution_count": null,
   "metadata": {},
   "outputs": [],
   "source": []
  }
 ],
 "metadata": {
  "kernelspec": {
   "display_name": "Python 3 (ipykernel)",
   "language": "python",
   "name": "python3"
  },
  "language_info": {
   "codemirror_mode": {
    "name": "ipython",
    "version": 3
   },
   "file_extension": ".py",
   "mimetype": "text/x-python",
   "name": "python",
   "nbconvert_exporter": "python",
   "pygments_lexer": "ipython3",
   "version": "3.11.7"
  }
 },
 "nbformat": 4,
 "nbformat_minor": 4
}
