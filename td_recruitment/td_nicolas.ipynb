{
 "cells": [
  {
   "cell_type": "code",
<<<<<<< HEAD
   "execution_count": 1,
   "metadata": {},
   "outputs": [],
   "source": [
    "import numpy as np\n",
    "import gurobipy"
   ]
  },
  {
   "cell_type": "code",
   "execution_count": 2,
   "metadata": {},
   "outputs": [],
   "source": [
    "evaluation_candidat = np.array([[6, 2, 4],\n",
    "                                [6, 4, 2],\n",
    "                                [2, 4, 6], \n",
    "                                [2, 6, 4]])"
   ]
  },
  {
   "cell_type": "code",
=======
>>>>>>> 10dab6eb26ca888fc2020d057ac46526e4d62c06
   "execution_count": null,
   "metadata": {},
   "outputs": [],
   "source": []
  }
 ],
 "metadata": {
<<<<<<< HEAD
  "kernelspec": {
   "display_name": "Python 3",
   "language": "python",
   "name": "python3"
  },
  "language_info": {
   "codemirror_mode": {
    "name": "ipython",
    "version": 3
   },
   "file_extension": ".py",
   "mimetype": "text/x-python",
   "name": "python",
   "nbconvert_exporter": "python",
   "pygments_lexer": "ipython3",
   "version": "3.11.7"
=======
  "language_info": {
   "name": "python"
>>>>>>> 10dab6eb26ca888fc2020d057ac46526e4d62c06
  },
  "orig_nbformat": 4
 },
 "nbformat": 4,
 "nbformat_minor": 2
}
